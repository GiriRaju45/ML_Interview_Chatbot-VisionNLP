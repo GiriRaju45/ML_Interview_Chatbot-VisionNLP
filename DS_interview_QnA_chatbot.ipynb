{
  "cells": [
    {
      "cell_type": "code",
      "execution_count": null,
      "metadata": {
        "colab": {
          "base_uri": "https://localhost:8080/"
        },
        "id": "7e76290b",
        "outputId": "1be9bd6a-9059-4447-8100-257ee5a5ced0"
      },
      "outputs": [
        {
          "name": "stdout",
          "output_type": "stream",
          "text": [
            "Collecting tensorflow-datasets==1.2.0\n",
            "  Downloading tensorflow_datasets-1.2.0-py3-none-any.whl (2.3 MB)\n",
            "\u001b[K     |████████████████████████████████| 2.3 MB 12.8 MB/s \n",
            "\u001b[?25hRequirement already satisfied: promise in /usr/local/lib/python3.7/dist-packages (from tensorflow-datasets==1.2.0) (2.3)\n",
            "Requirement already satisfied: tensorflow-metadata in /usr/local/lib/python3.7/dist-packages (from tensorflow-datasets==1.2.0) (1.7.0)\n",
            "Requirement already satisfied: protobuf>=3.6.1 in /usr/local/lib/python3.7/dist-packages (from tensorflow-datasets==1.2.0) (3.17.3)\n",
            "Requirement already satisfied: requests>=2.19.0 in /usr/local/lib/python3.7/dist-packages (from tensorflow-datasets==1.2.0) (2.23.0)\n",
            "Requirement already satisfied: tqdm in /usr/local/lib/python3.7/dist-packages (from tensorflow-datasets==1.2.0) (4.63.0)\n",
            "Requirement already satisfied: wrapt in /usr/local/lib/python3.7/dist-packages (from tensorflow-datasets==1.2.0) (1.14.0)\n",
            "Requirement already satisfied: attrs in /usr/local/lib/python3.7/dist-packages (from tensorflow-datasets==1.2.0) (21.4.0)\n",
            "Requirement already satisfied: dill in /usr/local/lib/python3.7/dist-packages (from tensorflow-datasets==1.2.0) (0.3.4)\n",
            "Requirement already satisfied: psutil in /usr/local/lib/python3.7/dist-packages (from tensorflow-datasets==1.2.0) (5.4.8)\n",
            "Requirement already satisfied: termcolor in /usr/local/lib/python3.7/dist-packages (from tensorflow-datasets==1.2.0) (1.1.0)\n",
            "Requirement already satisfied: six in /usr/local/lib/python3.7/dist-packages (from tensorflow-datasets==1.2.0) (1.15.0)\n",
            "Requirement already satisfied: numpy in /usr/local/lib/python3.7/dist-packages (from tensorflow-datasets==1.2.0) (1.21.5)\n",
            "Requirement already satisfied: absl-py in /usr/local/lib/python3.7/dist-packages (from tensorflow-datasets==1.2.0) (1.0.0)\n",
            "Requirement already satisfied: future in /usr/local/lib/python3.7/dist-packages (from tensorflow-datasets==1.2.0) (0.16.0)\n",
            "Requirement already satisfied: idna<3,>=2.5 in /usr/local/lib/python3.7/dist-packages (from requests>=2.19.0->tensorflow-datasets==1.2.0) (2.10)\n",
            "Requirement already satisfied: certifi>=2017.4.17 in /usr/local/lib/python3.7/dist-packages (from requests>=2.19.0->tensorflow-datasets==1.2.0) (2021.10.8)\n",
            "Requirement already satisfied: urllib3!=1.25.0,!=1.25.1,<1.26,>=1.21.1 in /usr/local/lib/python3.7/dist-packages (from requests>=2.19.0->tensorflow-datasets==1.2.0) (1.24.3)\n",
            "Requirement already satisfied: chardet<4,>=3.0.2 in /usr/local/lib/python3.7/dist-packages (from requests>=2.19.0->tensorflow-datasets==1.2.0) (3.0.4)\n",
            "Requirement already satisfied: googleapis-common-protos<2,>=1.52.0 in /usr/local/lib/python3.7/dist-packages (from tensorflow-metadata->tensorflow-datasets==1.2.0) (1.56.0)\n",
            "Installing collected packages: tensorflow-datasets\n",
            "  Attempting uninstall: tensorflow-datasets\n",
            "    Found existing installation: tensorflow-datasets 4.0.1\n",
            "    Uninstalling tensorflow-datasets-4.0.1:\n",
            "      Successfully uninstalled tensorflow-datasets-4.0.1\n",
            "Successfully installed tensorflow-datasets-1.2.0\n",
            "Tensorflow version 2.8.0\n"
          ]
        }
      ],
      "source": [
        "from __future__ import absolute_import, division, print_function, unicode_literals\n",
        "\n",
        "import sys\n",
        "\n",
        "if 'google.colab' in sys.modules:\n",
        "  %tensorflow_version 2.x\n",
        "\n",
        "import tensorflow as tf\n",
        "\n",
        "\n",
        "tf.random.set_seed(1234)\n",
        "AUTO = tf.data.experimental.AUTOTUNE\n",
        "\n",
        "!pip install tensorflow-datasets==1.2.0\n",
        "import tensorflow_datasets as tfds\n",
        "\n",
        "import os\n",
        "import re\n",
        "import numpy as np\n",
        "from time import time\n",
        "import pandas as pd\n",
        "import matplotlib.pyplot as plt\n",
        "from tensorflow.keras.layers import MultiHeadAttention\n",
        "\n",
        "print(\"Tensorflow version {}\".format(tf.__version__))"
      ],
      "id": "7e76290b"
    },
    {
      "cell_type": "code",
      "execution_count": null,
      "metadata": {
        "id": "cD14U7uiQSzQ"
      },
      "outputs": [],
      "source": [
        "import random"
      ],
      "id": "cD14U7uiQSzQ"
    },
    {
      "cell_type": "code",
      "execution_count": null,
      "metadata": {
        "colab": {
          "base_uri": "https://localhost:8080/"
        },
        "id": "WZbKdFzohft9",
        "outputId": "f5f9444b-df22-49b9-a10c-f5065c9d6874"
      },
      "outputs": [
        {
          "name": "stdout",
          "output_type": "stream",
          "text": [
            "replicas: 1\n"
          ]
        }
      ],
      "source": [
        "try:\n",
        "  tpu = tf.distribute.cluster_resolver.TPUClusterResolver()\n",
        "  print('Running on TPU {}'. format(tpu.cluster_spec().as_dict()['worker']))\n",
        "except ValueError:\n",
        "  tpu = None\n",
        "\n",
        "if tpu:\n",
        "  tf.config.experimental_connect_to_cluster(tpu)\n",
        "  tf.tpu.experimental.initialize_tpu_system(tpu)\n",
        "  strategy = tf.distribute.experimental.TPUStrategy(tpu)\n",
        "else:\n",
        "  strategy = tf.distribute.get_strategy()\n",
        "\n",
        "print('replicas: {}'.format(strategy.num_replicas_in_sync))"
      ],
      "id": "WZbKdFzohft9"
    },
    {
      "cell_type": "code",
      "execution_count": null,
      "metadata": {
        "id": "54633cd7"
      },
      "outputs": [],
      "source": [
        "# Maximum sentence length\n",
        "MAX_LENGTH = 50\n",
        "\n",
        "# Maximum number of samples to preprocess\n",
        "MAX_SAMPLES = 1500\n",
        "\n",
        "# For tf.data.Dataset\n",
        "BATCH_SIZE = 8* strategy.num_replicas_in_sync\n",
        "BUFFER_SIZE = 200\n"
      ],
      "id": "54633cd7"
    },
    {
      "cell_type": "code",
      "execution_count": null,
      "metadata": {
        "colab": {
          "base_uri": "https://localhost:8080/",
          "height": 74,
          "resources": {
            "http://localhost:8080/nbextensions/google.colab/files.js": {
              "data": "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",
              "headers": [
                [
                  "content-type",
                  "application/javascript"
                ]
              ],
              "ok": true,
              "status": 200,
              "status_text": ""
            }
          }
        },
        "id": "647gCpNVi1rx",
        "outputId": "1c518c0e-caeb-4978-faf8-99f0da110c01"
      },
      "outputs": [
        {
          "data": {
            "text/html": [
              "\n",
              "     <input type=\"file\" id=\"files-1bf0a051-f41b-4117-a73c-2eac699491a9\" name=\"files[]\" multiple disabled\n",
              "        style=\"border:none\" />\n",
              "     <output id=\"result-1bf0a051-f41b-4117-a73c-2eac699491a9\">\n",
              "      Upload widget is only available when the cell has been executed in the\n",
              "      current browser session. Please rerun this cell to enable.\n",
              "      </output>\n",
              "      <script src=\"/nbextensions/google.colab/files.js\"></script> "
            ],
            "text/plain": [
              "<IPython.core.display.HTML object>"
            ]
          },
          "metadata": {},
          "output_type": "display_data"
        },
        {
          "name": "stdout",
          "output_type": "stream",
          "text": [
            "Saving Web Scrapped data.csv to Web Scrapped data.csv\n"
          ]
        }
      ],
      "source": [
        "from google.colab import files\n",
        "up = files.upload()"
      ],
      "id": "647gCpNVi1rx"
    },
    {
      "cell_type": "code",
      "execution_count": null,
      "metadata": {
        "id": "94b48a66"
      },
      "outputs": [],
      "source": [
        "data = pd.read_csv('Web Scrapped data.csv', encoding = 'latin')"
      ],
      "id": "94b48a66"
    },
    {
      "cell_type": "code",
      "execution_count": null,
      "metadata": {
        "colab": {
          "base_uri": "https://localhost:8080/",
          "height": 423
        },
        "id": "6b1148da",
        "outputId": "505a8b65-6886-4158-cf88-b5daa877134f"
      },
      "outputs": [
        {
          "data": {
            "text/html": [
              "\n",
              "  <div id=\"df-417f70ea-d13c-47da-ab1b-932fe054ab3e\">\n",
              "    <div class=\"colab-df-container\">\n",
              "      <div>\n",
              "<style scoped>\n",
              "    .dataframe tbody tr th:only-of-type {\n",
              "        vertical-align: middle;\n",
              "    }\n",
              "\n",
              "    .dataframe tbody tr th {\n",
              "        vertical-align: top;\n",
              "    }\n",
              "\n",
              "    .dataframe thead th {\n",
              "        text-align: right;\n",
              "    }\n",
              "</style>\n",
              "<table border=\"1\" class=\"dataframe\">\n",
              "  <thead>\n",
              "    <tr style=\"text-align: right;\">\n",
              "      <th></th>\n",
              "      <th>Questions</th>\n",
              "      <th>Answers</th>\n",
              "    </tr>\n",
              "  </thead>\n",
              "  <tbody>\n",
              "    <tr>\n",
              "      <th>0</th>\n",
              "      <td>What is Machine Learning?</td>\n",
              "      <td>Machine learning is the science of getting co...</td>\n",
              "    </tr>\n",
              "    <tr>\n",
              "      <th>1</th>\n",
              "      <td>Explain the basic difference between Supervise...</td>\n",
              "      <td>Supervised Learning: A model is trained on the...</td>\n",
              "    </tr>\n",
              "    <tr>\n",
              "      <th>2</th>\n",
              "      <td>What do you mean by Reinforcement Learning?</td>\n",
              "      <td>reinforcement learning is an area of machine ...</td>\n",
              "    </tr>\n",
              "    <tr>\n",
              "      <th>3</th>\n",
              "      <td>What are the different types of data used in M...</td>\n",
              "      <td>There Are Two Types of Data. Structured and U...</td>\n",
              "    </tr>\n",
              "    <tr>\n",
              "      <th>4</th>\n",
              "      <td>Features vs. Labels?</td>\n",
              "      <td>Features are the input information. On the ot...</td>\n",
              "    </tr>\n",
              "    <tr>\n",
              "      <th>...</th>\n",
              "      <td>...</td>\n",
              "      <td>...</td>\n",
              "    </tr>\n",
              "    <tr>\n",
              "      <th>221</th>\n",
              "      <td>What's the difference between 'correlation' a...</td>\n",
              "      <td>This will be one of the advanced machine learn...</td>\n",
              "    </tr>\n",
              "    <tr>\n",
              "      <th>222</th>\n",
              "      <td>Describe an 'imbalanced dataset'.</td>\n",
              "      <td>An imbalanced dataset is a set that, after tes...</td>\n",
              "    </tr>\n",
              "    <tr>\n",
              "      <th>223</th>\n",
              "      <td>What is 'data normalization'?</td>\n",
              "      <td>Remember when we talked about 'backpropagation...</td>\n",
              "    </tr>\n",
              "    <tr>\n",
              "      <th>224</th>\n",
              "      <td>Could you capture the correlation between cat...</td>\n",
              "      <td>Well, you could, but you would have to use wha...</td>\n",
              "    </tr>\n",
              "    <tr>\n",
              "      <th>225</th>\n",
              "      <td>What is the activation function used for?</td>\n",
              "      <td>This function allows you to diversify your net...</td>\n",
              "    </tr>\n",
              "  </tbody>\n",
              "</table>\n",
              "<p>226 rows × 2 columns</p>\n",
              "</div>\n",
              "      <button class=\"colab-df-convert\" onclick=\"convertToInteractive('df-417f70ea-d13c-47da-ab1b-932fe054ab3e')\"\n",
              "              title=\"Convert this dataframe to an interactive table.\"\n",
              "              style=\"display:none;\">\n",
              "        \n",
              "  <svg xmlns=\"http://www.w3.org/2000/svg\" height=\"24px\"viewBox=\"0 0 24 24\"\n",
              "       width=\"24px\">\n",
              "    <path d=\"M0 0h24v24H0V0z\" fill=\"none\"/>\n",
              "    <path d=\"M18.56 5.44l.94 2.06.94-2.06 2.06-.94-2.06-.94-.94-2.06-.94 2.06-2.06.94zm-11 1L8.5 8.5l.94-2.06 2.06-.94-2.06-.94L8.5 2.5l-.94 2.06-2.06.94zm10 10l.94 2.06.94-2.06 2.06-.94-2.06-.94-.94-2.06-.94 2.06-2.06.94z\"/><path d=\"M17.41 7.96l-1.37-1.37c-.4-.4-.92-.59-1.43-.59-.52 0-1.04.2-1.43.59L10.3 9.45l-7.72 7.72c-.78.78-.78 2.05 0 2.83L4 21.41c.39.39.9.59 1.41.59.51 0 1.02-.2 1.41-.59l7.78-7.78 2.81-2.81c.8-.78.8-2.07 0-2.86zM5.41 20L4 18.59l7.72-7.72 1.47 1.35L5.41 20z\"/>\n",
              "  </svg>\n",
              "      </button>\n",
              "      \n",
              "  <style>\n",
              "    .colab-df-container {\n",
              "      display:flex;\n",
              "      flex-wrap:wrap;\n",
              "      gap: 12px;\n",
              "    }\n",
              "\n",
              "    .colab-df-convert {\n",
              "      background-color: #E8F0FE;\n",
              "      border: none;\n",
              "      border-radius: 50%;\n",
              "      cursor: pointer;\n",
              "      display: none;\n",
              "      fill: #1967D2;\n",
              "      height: 32px;\n",
              "      padding: 0 0 0 0;\n",
              "      width: 32px;\n",
              "    }\n",
              "\n",
              "    .colab-df-convert:hover {\n",
              "      background-color: #E2EBFA;\n",
              "      box-shadow: 0px 1px 2px rgba(60, 64, 67, 0.3), 0px 1px 3px 1px rgba(60, 64, 67, 0.15);\n",
              "      fill: #174EA6;\n",
              "    }\n",
              "\n",
              "    [theme=dark] .colab-df-convert {\n",
              "      background-color: #3B4455;\n",
              "      fill: #D2E3FC;\n",
              "    }\n",
              "\n",
              "    [theme=dark] .colab-df-convert:hover {\n",
              "      background-color: #434B5C;\n",
              "      box-shadow: 0px 1px 3px 1px rgba(0, 0, 0, 0.15);\n",
              "      filter: drop-shadow(0px 1px 2px rgba(0, 0, 0, 0.3));\n",
              "      fill: #FFFFFF;\n",
              "    }\n",
              "  </style>\n",
              "\n",
              "      <script>\n",
              "        const buttonEl =\n",
              "          document.querySelector('#df-417f70ea-d13c-47da-ab1b-932fe054ab3e button.colab-df-convert');\n",
              "        buttonEl.style.display =\n",
              "          google.colab.kernel.accessAllowed ? 'block' : 'none';\n",
              "\n",
              "        async function convertToInteractive(key) {\n",
              "          const element = document.querySelector('#df-417f70ea-d13c-47da-ab1b-932fe054ab3e');\n",
              "          const dataTable =\n",
              "            await google.colab.kernel.invokeFunction('convertToInteractive',\n",
              "                                                     [key], {});\n",
              "          if (!dataTable) return;\n",
              "\n",
              "          const docLinkHtml = 'Like what you see? Visit the ' +\n",
              "            '<a target=\"_blank\" href=https://colab.research.google.com/notebooks/data_table.ipynb>data table notebook</a>'\n",
              "            + ' to learn more about interactive tables.';\n",
              "          element.innerHTML = '';\n",
              "          dataTable['output_type'] = 'display_data';\n",
              "          await google.colab.output.renderOutput(dataTable, element);\n",
              "          const docLink = document.createElement('div');\n",
              "          docLink.innerHTML = docLinkHtml;\n",
              "          element.appendChild(docLink);\n",
              "        }\n",
              "      </script>\n",
              "    </div>\n",
              "  </div>\n",
              "  "
            ],
            "text/plain": [
              "                                             Questions  \\\n",
              "0                            What is Machine Learning?   \n",
              "1    Explain the basic difference between Supervise...   \n",
              "2          What do you mean by Reinforcement Learning?   \n",
              "3    What are the different types of data used in M...   \n",
              "4                                 Features vs. Labels?   \n",
              "..                                                 ...   \n",
              "221   What's the difference between 'correlation' a...   \n",
              "222                  Describe an 'imbalanced dataset'.   \n",
              "223                      What is 'data normalization'?   \n",
              "224   Could you capture the correlation between cat...   \n",
              "225          What is the activation function used for?   \n",
              "\n",
              "                                               Answers  \n",
              "0     Machine learning is the science of getting co...  \n",
              "1    Supervised Learning: A model is trained on the...  \n",
              "2     reinforcement learning is an area of machine ...  \n",
              "3     There Are Two Types of Data. Structured and U...  \n",
              "4     Features are the input information. On the ot...  \n",
              "..                                                 ...  \n",
              "221  This will be one of the advanced machine learn...  \n",
              "222  An imbalanced dataset is a set that, after tes...  \n",
              "223  Remember when we talked about 'backpropagation...  \n",
              "224  Well, you could, but you would have to use wha...  \n",
              "225  This function allows you to diversify your net...  \n",
              "\n",
              "[226 rows x 2 columns]"
            ]
          },
          "execution_count": 11,
          "metadata": {},
          "output_type": "execute_result"
        }
      ],
      "source": [
        "data"
      ],
      "id": "6b1148da"
    },
    {
      "cell_type": "code",
      "execution_count": null,
      "metadata": {
        "id": "c6d6073d"
      },
      "outputs": [],
      "source": [
        "def preprocess_sentence(w):\n",
        "\n",
        "    w = w.lower().strip()\n",
        "\n",
        "     # creating a space between a word and the punctuation following it\n",
        "    # eg: \"he is a boy.\" => \"he is a boy .\"\n",
        "    # Reference:- https://stackoverflow.com/questions/3645931/python-padding-punctuation-with-white-spaces-keeping-punctuation\n",
        "    w = re.sub(r\"([?.!,¿])\", r\" \\1 \", w)\n",
        "    w = re.sub(r'[\" \"]+', \" \", w)\n",
        "\n",
        "    # replacing everything with space except (a-z, A-Z, \".\", \"?\", \"!\", \",\")\n",
        "    w = re.sub(r\"[^a-zA-Z?.!,¿0-9]+\", \" \", w)\n",
        "\n",
        "    w = w.strip()\n",
        "\n",
        "    # adding a start and an end token to the sentence\n",
        "    # so that the model know when to start and stop predicting.\n",
        "\n",
        "    return w"
      ],
      "id": "c6d6073d"
    },
    {
      "cell_type": "code",
      "execution_count": null,
      "metadata": {
        "id": "28329094"
      },
      "outputs": [],
      "source": [
        "questions = []\n",
        "\n",
        "for question in data.Questions:\n",
        "    question = str(question)\n",
        "    question = preprocess_sentence(question)\n",
        "    questions.append(question)"
      ],
      "id": "28329094"
    },
    {
      "cell_type": "code",
      "execution_count": null,
      "metadata": {
        "colab": {
          "base_uri": "https://localhost:8080/"
        },
        "id": "8d905fa1",
        "outputId": "6e4ddcb2-77ab-4042-e1b1-4969a14d7792"
      },
      "outputs": [
        {
          "data": {
            "text/plain": [
              "['what is machine learning ?',\n",
              " 'explain the basic difference between supervised , unsupervised , and semi supervised machine learning ?',\n",
              " 'what do you mean by reinforcement learning ?',\n",
              " 'what are the different types of data used in machine learning ?',\n",
              " 'features vs . labels ?',\n",
              " 'explain the difference between regression and classification ?',\n",
              " 'what is scikit learn used for ?',\n",
              " 'what are a training set and test set in machine learning , and why are they important ?',\n",
              " 'explain the stages of building a machine learning model ?',\n",
              " 'overfitting vs . underfitting ?']"
            ]
          },
          "execution_count": 14,
          "metadata": {},
          "output_type": "execute_result"
        }
      ],
      "source": [
        "questions[:10]"
      ],
      "id": "8d905fa1"
    },
    {
      "cell_type": "code",
      "execution_count": null,
      "metadata": {
        "id": "3e0544cb"
      },
      "outputs": [],
      "source": [
        "answers = []\n",
        "\n",
        "for answer in data.Answers:\n",
        "    answer = str(answer)\n",
        "    answer = preprocess_sentence(answer)\n",
        "    answers.append(answer)"
      ],
      "id": "3e0544cb"
    },
    {
      "cell_type": "code",
      "execution_count": null,
      "metadata": {
        "colab": {
          "base_uri": "https://localhost:8080/"
        },
        "id": "7373e6e7",
        "outputId": "fa136976-d775-4e7a-9d8f-96ecdd3aae74"
      },
      "outputs": [
        {
          "data": {
            "text/plain": [
              "['machine learning is the science of getting computers to act in a real time situation without being explicitly programmed . it is an application of artificial intelligence that provides systems to automatically learn and improve from previous experience . it allows computers to learn and adapt to new data without any kind of human intervention .',\n",
              " 'supervised learning a model is trained on the labeled data , and then it makes predictions based on the previously labeled data . it requires a supervisor labels to train the data . e . g . , text classification . unsupervised learning a model is trained on unlabeled data . the model tries to find patterns , relationships in the data and classify the classes according to that . we don t have any labeled data . semi supervised learning it is a type of machine learning that uses some amount of labeled data and a large amount of unlabeled data to train the model . the goal of this is to classify some of the unlabeled data with the help of labeled data .',\n",
              " 'reinforcement learning is an area of machine learning in which the model is trained according to the rewards given to it based on its previous actions in the environment . there is an agent whose task is to give rewards and also to maximize the rewards . if the model performs the task correctly , it gets a 1 reward , but if it does a task wrong , then it gets a 1 reward . applications self driven cars , automatic parking , puzzle solver , and more .',\n",
              " 'there are two types of data . structured and unstructured data . 1 . structured data this type of data is predefined , labeled , and well formatted before being stored in a data storage . example student records table . 2 . unstructured data this type of data is in native format , and it s not processed until it is used . example text , audio , video , emails , etc .',\n",
              " 'features are the input information . on the other hand , labels are the output information for a mode . features are used to predict something , and labels are the ones which we predict . also , features are named as independent variables , and labels are dependent variables .',\n",
              " 'regression regression is a process of finding the correlation between the dependent and independent variables . it is helpful in the prediction of continuous variables , such as in the prediction of the stock market , house prices , etc . in regression , our task is to find the best suitable line that can predict the output accurately . classification classification is the process of finding a function that helps in dividing the data into different classes . these are mainly used in discrete data . in classification , our aim is to find the decision boundary which can divide the dataset into different classes .',\n",
              " 'scikit learn is a robust library in python used for machine learning tasks . the scikit learn library contains a lot of efficient tools and classes for machine learning and statistical modeling , including classification , regression , clustering , feature selection , parameter tuning , etc . it is an efficient tool for predictive analysis . it provides all the major algorithms in the form of classes and functions . in python , it is written as sklearn .',\n",
              " 'the training set is the set given to the model for training , analyzing , and learning . the test set is the set that is used for testing the model locally before using it in a real application . the training set is labeled data , and the test set has no labels . it is important to divide the dataset into training and test sets so that the model will not go in overfitting or underfitting conditions . also , it is a great method to evaluate the model and understand the characteristics of the data . in most cases , the split is 70 30 , meaning 70 of the full data set for training and 30 for testing .',\n",
              " 'data collection it is the first stage of any kind of machine learning model . in this stage , the appropriate data is decided , and then it is collected using some algorithm or manually . data processing in this stage , the data that we have collected in the first stage is preprocessed by handling all the null values , categorical data , etc . also , in the same stage , the data features are made in the same range if they are not already . model building in this stage , first , we choose appropriate algorithms to create the model , and then , with the help of sklearn , for example , the model is built . model evaluation after the model is created , it is evaluated using some techniques of statistics like accuracy score , z score , accuracy matrix , and more . model saving and testing after a successful evaluation of the model , it is saved for future use , and real time testing is done using it .',\n",
              " 'overfitting it is a condition that occurs when model performance on training data is good but on test data is bad . example model accuracy on the train is 94 and on test 56 . it is a modeling error that occurs when a function is too closely fit a limited set of data points . to avoid overfitting , we can collect more data , use ensembling methods or choose the right algorithm that fits the data best . underfitting model performance is poor on training data as well as test data . in other words , this type of model failed to generalize the new data points . machine intelligence is the last invention that humanity will ever need to make . nick bostrom',\n",
              " 'the confusion matrix is a measurement table that is used to measure the performance of a machine learning algorithm . it is a table of different combinations of predicted and actual values . it is useful for measuring recall , precision , auc roc curve , and accuracy . the diagonal of the matrix contains all the true or correct data . the size of the matrix depends upon the classes in the dependent variable . the matrix size is equal to n n , where n is the number of classes in the output of the dependent variable . true positive actual value predicted value when o p is 1 true negative actual value ! predicted value when o p is 0 false positive type i error false negative type ii error',\n",
              " 'type i error false positive error it occurs when the null hypothesis is true , but it gets rejected , meaning it claims something has happened when it hasn t . type ii error false negative error it occurs when the null hypothesis gets accepted when it s not true , meaning it claims nothing happened when something has happened . example let s take the example of a scenario in which a null hypothesis is a person who is innocent . convicting an innocent person is a type i error . on the other hand , letting a guilty person go free is a type ii error .',\n",
              " 'precision is the ratio of correctly predicted positive observation and total predicted positive observation . it shows how precise our model is . precision tp tp fp recall is the ratio of the correct predicted positive observation and the total observation in the class . recall tp tp fn f1 score is the weighted average of recall and precision . f1 score 2 recall precision recall precision accuracy is the ratio of correctly predicted positive observations to the total positive observations . accuracy tp tn tp tn fp fn',\n",
              " 'p value is the determination of a result when the null hypothesis is assumed to be true . if the p value is very small 0 . 05 , then our assumption that the null hypothesis is correct is most likely to be false . thus we reject the null hypothesis .',\n",
              " 'a roc curve is a graph showing the performance of a classification model at different thresholds . it uses two curve plot parameters , true positive rate sensitivity and false positive rate specificity . the closer the curve follows the left hand border and then the top border , the more accurate the test is . the closer the curve to a 45 degree diagonal of roc space , the less accurate the test is .',\n",
              " 'knn is a supervised machine learning technique that is used for classification or regression problems . in knn , the k represents the number of nearest neighbors used to predict the dependent variable . k means clustering is an unsupervised machine learning algorithm that is used to divide the data into different clusters based on k , the number of clusters , and centroids .',\n",
              " 'naive bayes classifier assumes that all the input variables are independent of each other , meaning they don t have any relationship between them , which is actually an unrealistic assumption for real data . let s suppose a dataset that contains information about fruits and detects whether the fruit is an apple or not . a sample of this data contains a fruit that is red , round , and about 4 in diameter . even if all these features depend on each other or upon the existence of the other feature , a naive bayes classifier will always consider them as independent contributors for the prediction of the fruit .',\n",
              " 'ensemble learning is a technique in which the predictions or results of multiple models are combined to achieve better performance . let s take an example of if you buy a car , you generally go for research on the web to search for reviews and features of different cars . in the end , after combining all the reviews , you create your own review of that car and decide whether you want to purchase it or not . the review you create is the better version of all the reviews you read because it contains the information from all the reviews . ensemble learning works the same the predictions from many algorithms are used to create a better model . ensemble learning can be done in two ways . one is to combine different algorithm predictions to generate a new high accuracy prediction . another way is to use a single algorithm multiple times and , in the end , use each model prediction to generate a better model with good accuracy .',\n",
              " 'bagging is a method of combining predictions of the same type , meaning from the same algorithm . ex random forest . in this , each model is built independently with equal weight given to them . it reduces the overfitting problem . it also decreases the variance . boosting is a way of combining predictions belongs to different algorithms . ex gradient boosting . the new model is highly influenced by the performance of the previously built models . it reduces the bias .',\n",
              " 'bias is the difference between the average prediction of the model and the correct value . on the other hand , variance is the variability of a data point that shows the spread of the data . if our model has fewer parameters , then it may have high bias and low variance . because of that , it will be consistent but inaccurate on average . a model with a large number of parameters may have low bias and high variance models , which are mostly accurate on average but inconsistent in nature . a good model always has low bias and low variance .']"
            ]
          },
          "execution_count": 16,
          "metadata": {},
          "output_type": "execute_result"
        }
      ],
      "source": [
        "answers[:20]"
      ],
      "id": "7373e6e7"
    },
    {
      "cell_type": "code",
      "execution_count": null,
      "metadata": {
        "colab": {
          "base_uri": "https://localhost:8080/"
        },
        "id": "5827a7ae",
        "outputId": "108e3c28-2876-4325-fb3b-f1c83710cdc5"
      },
      "outputs": [
        {
          "name": "stdout",
          "output_type": "stream",
          "text": [
            "explain l1 and l2 regularization ?\n",
            "\n",
            "\n",
            "a regression model that uses l1 regularization is called lasso regression , and the model which uses l2 regularization is called ridge regression . l1 regularization adds the penalty term in the cost function by adding the absolute value of weight wj , while l2 regularization adds the squared value of weights wj in the cost function . one more difference between both of them is that l1 regularization tries to estimate the median of the data while l2 regularization tries to estimate the mean of the data . l1 regularization helps in eliminating the features that are not important .\n"
          ]
        }
      ],
      "source": [
        "print(questions[20])\n",
        "print('\\n')\n",
        "print(answers[20])"
      ],
      "id": "5827a7ae"
    },
    {
      "cell_type": "code",
      "execution_count": null,
      "metadata": {
        "id": "e9723636"
      },
      "outputs": [],
      "source": [
        "# Build tokenizer using tfds for both questions and answers\n",
        "tokenizer = tfds.features.text.SubwordTextEncoder.build_from_corpus(\n",
        "    questions + answers, target_vocab_size= 2100)\n",
        "\n",
        "# Define start and end token to indicate the start and end of a sentence\n",
        "START_TOKEN, END_TOKEN = [tokenizer.vocab_size], [tokenizer.vocab_size + 1]\n",
        "\n",
        "# Vocabulary size plus start and end token\n",
        "VOCAB_SIZE = tokenizer.vocab_size + 2"
      ],
      "id": "e9723636"
    },
    {
      "cell_type": "code",
      "execution_count": null,
      "metadata": {
        "colab": {
          "base_uri": "https://localhost:8080/"
        },
        "id": "d6daa9c9",
        "outputId": "f1f37ed6-4391-4b47-9a2d-09a3d3ef6511"
      },
      "outputs": [
        {
          "name": "stdout",
          "output_type": "stream",
          "text": [
            " Start token: [2001] \n",
            "   End token: [2002] \n",
            " Vocab size: 2003\n"
          ]
        }
      ],
      "source": [
        "print(f' Start token: {START_TOKEN} \\n   End token: {END_TOKEN} \\n Vocab size: {VOCAB_SIZE}')"
      ],
      "id": "d6daa9c9"
    },
    {
      "cell_type": "code",
      "execution_count": null,
      "metadata": {
        "colab": {
          "base_uri": "https://localhost:8080/"
        },
        "id": "1fa8e22c",
        "outputId": "033b0c31-4997-46c1-d2df-028266eb0d02",
        "scrolled": true
      },
      "outputs": [
        {
          "name": "stdout",
          "output_type": "stream",
          "text": [
            " sample question: what are the different ways to handle missing values in machine learning ? \n",
            " tokenized sample question: [21, 14, 1, 88, 1218, 1777, 7, 233, 341, 51, 9, 35, 87, 16]\n"
          ]
        }
      ],
      "source": [
        "print(f' sample question: {questions[21]} \\n tokenized sample question: {tokenizer.encode(questions[21])}')"
      ],
      "id": "1fa8e22c"
    },
    {
      "cell_type": "code",
      "execution_count": null,
      "metadata": {
        "id": "32cd1c6f"
      },
      "outputs": [],
      "source": [],
      "id": "32cd1c6f"
    },
    {
      "cell_type": "code",
      "execution_count": null,
      "metadata": {
        "id": "9c8f9b3e"
      },
      "outputs": [],
      "source": [
        "# Tokenize, filter and pad sentences\n",
        "def tokenize_and_filter(inputs, outputs):\n",
        "    tokenized_inputs, tokenized_outputs = [], []\n",
        "\n",
        "    for (sentence1, sentence2) in zip(inputs, outputs):\n",
        "    # tokenize sentence\n",
        "        sentence1 = START_TOKEN + tokenizer.encode(sentence1) + END_TOKEN\n",
        "        sentence2 = START_TOKEN + tokenizer.encode(sentence2) + END_TOKEN\n",
        "        # check tokenized sentence max length\n",
        "    if len(sentence1) <= MAX_LENGTH and len(sentence2) <= MAX_LENGTH:\n",
        "        tokenized_inputs.append(sentence1)\n",
        "        tokenized_outputs.append(sentence2)\n",
        "\n",
        "    # pad tokenized sentences\n",
        "    tokenized_inputs = tf.keras.preprocessing.sequence.pad_sequences(\n",
        "      tokenized_inputs, maxlen=MAX_LENGTH, padding='post')\n",
        "    tokenized_outputs = tf.keras.preprocessing.sequence.pad_sequences(\n",
        "      tokenized_outputs, maxlen=MAX_LENGTH, padding='post')\n",
        "\n",
        "    return tokenized_inputs, tokenized_outputs\n",
        "\n",
        "\n",
        "questions, answers = tokenize_and_filter(questions, answers)"
      ],
      "id": "9c8f9b3e"
    },
    {
      "cell_type": "code",
      "execution_count": null,
      "metadata": {
        "id": "993c3db2"
      },
      "outputs": [],
      "source": [],
      "id": "993c3db2"
    },
    {
      "cell_type": "code",
      "execution_count": null,
      "metadata": {
        "colab": {
          "base_uri": "https://localhost:8080/"
        },
        "id": "60f0e021",
        "outputId": "24852da3-c54a-449b-f04d-73ca073a8167"
      },
      "outputs": [
        {
          "name": "stdout",
          "output_type": "stream",
          "text": [
            " vocab size: 2003\n"
          ]
        }
      ],
      "source": [
        "print(f' vocab size: {VOCAB_SIZE}')"
      ],
      "id": "60f0e021"
    },
    {
      "cell_type": "code",
      "execution_count": null,
      "metadata": {
        "id": "763833cb"
      },
      "outputs": [],
      "source": [
        "# decoder inputs use the previous target as input\n",
        "# remove START_TOKEN from targets\n",
        "dataset = tf.data.Dataset.from_tensor_slices((\n",
        "    {\n",
        "        'inputs': questions,\n",
        "        'dec_inputs': answers[:, :-1]\n",
        "    },\n",
        "    {\n",
        "        'outputs': answers[:, 1:]\n",
        "    },\n",
        "))\n",
        "\n",
        "dataset = dataset.cache()\n",
        "dataset = dataset.shuffle(BUFFER_SIZE)\n",
        "dataset = dataset.batch(BATCH_SIZE)\n",
        "dataset = dataset.prefetch(tf.data.experimental.AUTOTUNE)"
      ],
      "id": "763833cb"
    },
    {
      "cell_type": "code",
      "execution_count": null,
      "metadata": {
        "colab": {
          "base_uri": "https://localhost:8080/"
        },
        "id": "46e43f51",
        "outputId": "7c02c387-6328-41cc-84f5-6289b37e1732"
      },
      "outputs": [
        {
          "name": "stdout",
          "output_type": "stream",
          "text": [
            "<PrefetchDataset element_spec=({'inputs': TensorSpec(shape=(None, 50), dtype=tf.int32, name=None), 'dec_inputs': TensorSpec(shape=(None, 49), dtype=tf.int32, name=None)}, {'outputs': TensorSpec(shape=(None, 49), dtype=tf.int32, name=None)})>\n"
          ]
        }
      ],
      "source": [
        "print(dataset)"
      ],
      "id": "46e43f51"
    },
    {
      "cell_type": "code",
      "execution_count": null,
      "metadata": {
        "id": "16e066c0"
      },
      "outputs": [],
      "source": [
        "def scaled_dot_product_attention(query, key, value, mask):\n",
        "    \"\"\" Calculating the attention weights\"\"\"\n",
        "    matmul_qk = tf.matmul(query, key, transpose_b=True)\n",
        "\n",
        "    # scale matmul_qk\n",
        "    depth = tf.cast(tf.shape(key)[-1], tf.float32)\n",
        "    logits = matmul_qk / tf.math.sqrt(depth)\n",
        "\n",
        "    # add the mask to zero out padding tokens\n",
        "    if mask is not None:\n",
        "        logits += (mask * -1e9)\n",
        "\n",
        "    # softmax is normalized on the last axis (seq_len_k)\n",
        "    attention_weights = tf.nn.softmax(logits, axis=-1)\n",
        "\n",
        "    output = tf.matmul(attention_weights, value)\n",
        "\n",
        "    return output"
      ],
      "id": "16e066c0"
    },
    {
      "cell_type": "code",
      "execution_count": null,
      "metadata": {
        "id": "b0fb3acc"
      },
      "outputs": [],
      "source": [
        "class MultiHeadAttention(tf.keras.layers.Layer):\n",
        "\n",
        "    def __init__(self, d_model, num_heads, name=\"multi_head_attention\"):\n",
        "        super(MultiHeadAttention, self).__init__(name=name)\n",
        "        self.num_heads = num_heads\n",
        "        self.d_model = d_model\n",
        "\n",
        "        assert d_model % self.num_heads == 0\n",
        "\n",
        "        self.depth = d_model // self.num_heads\n",
        "\n",
        "        self.query_dense = tf.keras.layers.Dense(units=d_model)\n",
        "        self.key_dense = tf.keras.layers.Dense(units=d_model)\n",
        "        self.value_dense = tf.keras.layers.Dense(units=d_model)\n",
        "\n",
        "        self.dense = tf.keras.layers.Dense(units=d_model)\n",
        "\n",
        "    def get_config(self):\n",
        "        config = super(MultiHeadAttention, self).get_config()\n",
        "        config.update({'num_heads': self.num_heads,\n",
        "                      'd_model': self.d_model,\n",
        "        })\n",
        "        return config\n",
        "\n",
        "\n",
        "    def split_heads(self, inputs, batch_size):\n",
        "        inputs = tf.keras.layers.Lambda(lambda inputs:tf.reshape(\n",
        "            inputs, shape=(batch_size, -1, self.num_heads, self.depth)))(inputs)\n",
        "        return tf.keras.layers.Lambda(lambda inputs: tf.transpose(inputs, perm=[0, 2, 1,3]))(inputs)\n",
        "\n",
        "    def call(self, inputs):\n",
        "        query, key, value, mask = inputs['query'], inputs['key'], inputs[\n",
        "            'value'], inputs['mask']\n",
        "        batch_size = tf.shape(query)[0]\n",
        "\n",
        "        # linear layers\n",
        "        query = self.query_dense(query)\n",
        "        key = self.key_dense(key)\n",
        "        value = self.value_dense(value)\n",
        "\n",
        "        # split heads\n",
        "        query = self.split_heads(query, batch_size)\n",
        "        key = self.split_heads(key, batch_size)\n",
        "        value = self.split_heads(value, batch_size)\n",
        "\n",
        "        # scaled dot-product attention\n",
        "        scaled_attention = scaled_dot_product_attention(query, key, value, mask)\n",
        "        scaled_attention =  tf.keras.layers.Lambda(lambda scaled_attention: tf.transpose(\n",
        "        scaled_attention, perm=[0, 2, 1, 3]))(scaled_attention)\n",
        "\n",
        "        # concatenation of heads\n",
        "        concat_attention = tf.keras.layers.Lambda(lambda scaled_attention: tf.reshape(scaled_attention,\n",
        "                                  (batch_size, -1, self.d_model)))(scaled_attention)\n",
        "\n",
        "\n",
        "\n",
        "        # final linear layer\n",
        "        outputs = self.dense(concat_attention)\n",
        "\n",
        "        return outputs"
      ],
      "id": "b0fb3acc"
    },
    {
      "cell_type": "code",
      "execution_count": null,
      "metadata": {
        "id": "abab9943"
      },
      "outputs": [],
      "source": [
        "def create_padding_mask(x):\n",
        "    mask = tf.cast(tf.math.equal(x,0), tf.float32)\n",
        "    return mask[:, tf.newaxis, tf.newaxis, :]"
      ],
      "id": "abab9943"
    },
    {
      "cell_type": "code",
      "execution_count": null,
      "metadata": {
        "id": "7b87c3ae"
      },
      "outputs": [],
      "source": [
        "\n",
        "def create_look_ahead_mask(x):\n",
        "    seq_len = tf.shape(x)[1]\n",
        "    look_ahead_mask = 1 - tf.linalg.band_part(tf.ones((seq_len, seq_len)), -1, 0)\n",
        "    padding_mask = create_padding_mask(x)\n",
        "    return tf.maximum(look_ahead_mask, padding_mask)\n",
        ""
      ],
      "id": "7b87c3ae"
    },
    {
      "cell_type": "code",
      "execution_count": null,
      "metadata": {
        "id": "808896be"
      },
      "outputs": [],
      "source": [
        "class PositionalEncoding(tf.keras.layers.Layer):\n",
        "    def __init__(self, position, d_model):\n",
        "        super(PositionalEncoding, self).__init__()\n",
        "        self.pos_encoding = self.positional_encoding(position, d_model)\n",
        "\n",
        "    def get_config(self):\n",
        "\n",
        "        config = super(PositionalEncoding, self).get_config()\n",
        "        config.update({\n",
        "            'position': self.position,\n",
        "            'd_model': self.d_model,\n",
        "        })\n",
        "        return config\n",
        "\n",
        "    def get_angles(self, position, i, d_model):\n",
        "        angles = 1 / tf.pow(10000, (2 * (i // 2)) / tf.cast(d_model, tf.float32))\n",
        "        return position * angles\n",
        "\n",
        "    def positional_encoding(self, position, d_model):\n",
        "        angle_rads = self.get_angles(\n",
        "            position=tf.range(position, dtype=tf.float32)[:, tf.newaxis],\n",
        "            i=tf.range(d_model, dtype=tf.float32)[tf.newaxis, :],\n",
        "            d_model=d_model)\n",
        "    # apply sin to even index in the array\n",
        "        sines = tf.math.sin(angle_rads[:, 0::2])\n",
        "        # apply cos to odd index in the array\n",
        "        cosines = tf.math.cos(angle_rads[:, 1::2])\n",
        "\n",
        "        pos_encoding = tf.concat([sines, cosines], axis=-1)\n",
        "        pos_encoding = pos_encoding[tf.newaxis, ...]\n",
        "        return tf.cast(pos_encoding, tf.float32)\n",
        "\n",
        "    def call(self, inputs):\n",
        "        return inputs + self.pos_encoding[:, :tf.shape(inputs)[1], :]"
      ],
      "id": "808896be"
    },
    {
      "cell_type": "code",
      "execution_count": null,
      "metadata": {
        "colab": {
          "base_uri": "https://localhost:8080/",
          "height": 283
        },
        "id": "5cb752c4",
        "outputId": "67633be8-255f-405b-c7f8-b850519b692b"
      },
      "outputs": [
        {
          "data": {
            "image/png": "[encoded data removed]",
            "text/plain": [
              "<Figure size 432x288 with 2 Axes>"
            ]
          },
          "metadata": {},
          "output_type": "display_data"
        }
      ],
      "source": [
        "sample_pos_encoding = PositionalEncoding(50, 512)\n",
        "\n",
        "plt.pcolormesh(sample_pos_encoding.pos_encoding.numpy()[0], cmap='RdBu')\n",
        "plt.xlabel('Depth')\n",
        "plt.xlim((0, 512))\n",
        "plt.ylabel('Position')\n",
        "plt.colorbar()\n",
        "plt.show()"
      ],
      "id": "5cb752c4"
    },
    {
      "cell_type": "code",
      "execution_count": null,
      "metadata": {
        "id": "f17dff6d"
      },
      "outputs": [],
      "source": [
        "def encoder_layer(units, d_model, num_heads, dropout, name=\"encoder_layer\"):\n",
        "\n",
        "    inputs = tf.keras.Input(shape=(None, d_model), name=\"inputs\")\n",
        "\n",
        "    padding_mask = tf.keras.Input(shape=(1, 1, None), name=\"padding_mask\")\n",
        "\n",
        "    attention = MultiHeadAttention(\n",
        "          d_model, num_heads, name=\"attention\")({\n",
        "              'query': inputs,\n",
        "              'key': inputs,\n",
        "              'value': inputs,\n",
        "              'mask': padding_mask\n",
        "          })\n",
        "    attention = tf.keras.layers.Dropout(rate=dropout)(attention)\n",
        "    add_attention = tf.keras.layers.add([inputs, attention])\n",
        "    attention = tf.keras.layers.LayerNormalization(epsilon=1e-6)(add_attention)\n",
        "\n",
        "    outputs = tf.keras.layers.Dense(units=units, activation='relu')(attention)\n",
        "    outputs = tf.keras.layers.Dense(units=d_model)(outputs)\n",
        "    outputs = tf.keras.layers.Dropout(rate=dropout)(outputs)\n",
        "    add_attention = tf.keras.layers.add([attention, outputs])\n",
        "    outputs = tf.keras.layers.LayerNormalization(epsilon=1e-6)(add_attention)\n",
        "\n",
        "    return tf.keras.Model(\n",
        "        inputs=[inputs, padding_mask], outputs=outputs, name=name)"
      ],
      "id": "f17dff6d"
    },
    {
      "cell_type": "code",
      "execution_count": null,
      "metadata": {
        "id": "41a97ab8"
      },
      "outputs": [],
      "source": [
        "def encoder(vocab_size,\n",
        "            num_layers,\n",
        "            units,\n",
        "            d_model,\n",
        "            num_heads,\n",
        "            dropout,\n",
        "            name=\"encoder\"):\n",
        "    inputs = tf.keras.Input(shape=(None,), name=\"inputs\")\n",
        "    padding_mask = tf.keras.Input(shape=(1, 1, None), name=\"padding_mask\")\n",
        "\n",
        "    embeddings = tf.keras.layers.Embedding(vocab_size, d_model)(inputs)\n",
        "    embeddings *= tf.keras.layers.Lambda(lambda d_model: tf.math.sqrt(tf.cast(d_model, tf.float32)))(d_model)\n",
        "    embeddings = PositionalEncoding(vocab_size,d_model)(embeddings)\n",
        "\n",
        "    outputs = tf.keras.layers.Dropout(rate=dropout)(embeddings)\n",
        "\n",
        "    for i in range(num_layers):\n",
        "        outputs = encoder_layer(\n",
        "        units=units,\n",
        "        d_model=d_model,\n",
        "        num_heads=num_heads,\n",
        "        dropout=dropout,\n",
        "        name=\"encoder_layer_{}\".format(i),\n",
        "    )([outputs, padding_mask])\n",
        "\n",
        "    return tf.keras.Model(\n",
        "      inputs=[inputs, padding_mask], outputs=outputs, name=name)"
      ],
      "id": "41a97ab8"
    },
    {
      "cell_type": "code",
      "execution_count": null,
      "metadata": {
        "id": "7e0ce8e2"
      },
      "outputs": [],
      "source": [
        "def decoder_layer(units, d_model, num_heads, dropout, name=\"decoder_layer\"):\n",
        "\n",
        "    inputs = tf.keras.Input(shape=(None, d_model), name=\"inputs\")\n",
        "\n",
        "    enc_outputs = tf.keras.Input(shape=(None, d_model), name=\"encoder_outputs\")\n",
        "\n",
        "    look_ahead_mask = tf.keras.Input(\n",
        "      shape=(1, None, None), name=\"look_ahead_mask\")\n",
        "\n",
        "    padding_mask = tf.keras.Input(shape=(1, 1, None), name='padding_mask')\n",
        "\n",
        "    attention1 = MultiHeadAttention(\n",
        "      d_model, num_heads, name=\"attention_1\")(inputs={\n",
        "          'query': inputs,\n",
        "          'key': inputs,\n",
        "          'value': inputs,\n",
        "          'mask': look_ahead_mask\n",
        "      })\n",
        "    add_attention = tf.keras.layers.add([attention1, inputs])\n",
        "    attention1 = tf.keras.layers.LayerNormalization(epsilon=1e-6)(add_attention)\n",
        "\n",
        "    attention2 = MultiHeadAttention(\n",
        "      d_model, num_heads, name=\"attention_2\")(inputs={\n",
        "          'query': attention1,\n",
        "          'key': enc_outputs,\n",
        "          'value': enc_outputs,\n",
        "          'mask': padding_mask\n",
        "      })\n",
        "    attention2 = tf.keras.layers.Dropout(rate=dropout)(attention2)\n",
        "    add_attention = tf.keras.layers.add([attention2, attention1])\n",
        "    attention2 = tf.keras.layers.LayerNormalization(epsilon=1e-6)(add_attention)\n",
        "\n",
        "    outputs = tf.keras.layers.Dense(units=units, activation='relu')(attention2)\n",
        "    outputs = tf.keras.layers.Dense(units=d_model)(outputs)\n",
        "    outputs = tf.keras.layers.Dropout(rate=dropout)(outputs)\n",
        "    add_attention = tf.keras.layers.add([outputs, attention2])\n",
        "    outputs = tf.keras.layers.LayerNormalization(epsilon=1e-6)(add_attention)\n",
        "\n",
        "    return tf.keras.Model(\n",
        "      inputs=[inputs, enc_outputs, look_ahead_mask, padding_mask],\n",
        "      outputs=outputs,\n",
        "      name=name)"
      ],
      "id": "7e0ce8e2"
    },
    {
      "cell_type": "code",
      "execution_count": null,
      "metadata": {
        "id": "21ed7210"
      },
      "outputs": [],
      "source": [
        "def decoder(vocab_size,\n",
        "            num_layers,\n",
        "            units,\n",
        "            d_model,\n",
        "            num_heads,\n",
        "            dropout,\n",
        "            name='decoder'):\n",
        "    inputs = tf.keras.Input(shape=(None,), name='inputs')\n",
        "    enc_outputs = tf.keras.Input(shape=(None, d_model), name='encoder_outputs')\n",
        "    look_ahead_mask = tf.keras.Input(\n",
        "      shape=(1, None, None), name='look_ahead_mask')\n",
        "    padding_mask = tf.keras.Input(shape=(1, 1, None), name='padding_mask')\n",
        "\n",
        "    embeddings = tf.keras.layers.Embedding(vocab_size, d_model)(inputs)\n",
        "    embeddings *= tf.keras.layers.Lambda( lambda d_model: tf.math.sqrt(tf.cast(d_model, tf.float32)))(d_model)\n",
        "    embeddings = PositionalEncoding(vocab_size, d_model)(embeddings)\n",
        "\n",
        "    outputs = tf.keras.layers.Dropout(rate=dropout)(embeddings)\n",
        "\n",
        "    for i in range(num_layers):\n",
        "        outputs = decoder_layer(\n",
        "        units=units,\n",
        "        d_model=d_model,\n",
        "        num_heads=num_heads,\n",
        "        dropout=dropout,\n",
        "        name='decoder_layer_{}'.format(i),\n",
        "    )(inputs=[outputs, enc_outputs, look_ahead_mask, padding_mask])\n",
        "\n",
        "    return tf.keras.Model(\n",
        "      inputs=[inputs, enc_outputs, look_ahead_mask, padding_mask],\n",
        "      outputs=outputs,\n",
        "      name=name)\n"
      ],
      "id": "21ed7210"
    },
    {
      "cell_type": "code",
      "execution_count": null,
      "metadata": {
        "colab": {
          "base_uri": "https://localhost:8080/",
          "height": 450
        },
        "id": "991fb42d",
        "outputId": "636224db-7f26-472b-c69e-e604cd60eb56"
      },
      "outputs": [
        {
          "data": {
            "image/png": "[encoded data removed]",
            "text/plain": [
              "<IPython.core.display.Image object>"
            ]
          },
          "execution_count": 35,
          "metadata": {},
          "output_type": "execute_result"
        }
      ],
      "source": [
        "sample_decoder = decoder(\n",
        "    vocab_size=2003,\n",
        "    num_layers=2,\n",
        "    units=512,\n",
        "    d_model=128,\n",
        "    num_heads=4,\n",
        "    dropout=0.3,\n",
        "    name=\"sample_decoder\")\n",
        "\n",
        "tf.keras.utils.plot_model(\n",
        "    sample_decoder, to_file='decoder.png', show_shapes=True)\n"
      ],
      "id": "991fb42d"
    },
    {
      "cell_type": "code",
      "execution_count": null,
      "metadata": {
        "id": "2cb002d9"
      },
      "outputs": [],
      "source": [
        "def transformer(vocab_size,\n",
        "                num_layers,\n",
        "                units,\n",
        "                d_model,\n",
        "                num_heads,\n",
        "                dropout,\n",
        "                name=\"transformer\"):\n",
        "    inputs = tf.keras.Input(shape=(None,), name=\"inputs\")\n",
        "    dec_inputs = tf.keras.Input(shape=(None,), name=\"dec_inputs\")\n",
        "\n",
        "    enc_padding_mask = tf.keras.layers.Lambda(\n",
        "      create_padding_mask, output_shape=(1, 1, None),\n",
        "      name='enc_padding_mask')(inputs)\n",
        "  # mask the future tokens for decoder inputs at the 1st attention block\n",
        "    look_ahead_mask = tf.keras.layers.Lambda(\n",
        "      create_look_ahead_mask,\n",
        "      output_shape=(1, None, None),\n",
        "      name='look_ahead_mask')(dec_inputs)\n",
        "  # mask the encoder outputs for the 2nd attention block\n",
        "    dec_padding_mask = tf.keras.layers.Lambda(\n",
        "      create_padding_mask, output_shape=(1, 1, None),\n",
        "      name='dec_padding_mask')(inputs)\n",
        "\n",
        "    enc_outputs = encoder(\n",
        "      vocab_size=vocab_size,\n",
        "      num_layers=num_layers,\n",
        "      units=units,\n",
        "      d_model=d_model,\n",
        "      num_heads=num_heads,\n",
        "      dropout=dropout,\n",
        "    )(inputs=[inputs, enc_padding_mask])\n",
        "\n",
        "    dec_outputs = decoder(\n",
        "      vocab_size=vocab_size,\n",
        "      num_layers=num_layers,\n",
        "      units=units,\n",
        "      d_model=d_model,\n",
        "      num_heads=num_heads,\n",
        "      dropout=dropout,\n",
        "  )(inputs=[dec_inputs, enc_outputs, look_ahead_mask, dec_padding_mask])\n",
        "\n",
        "    outputs = tf.keras.layers.Dense(units=vocab_size, name=\"outputs\")(dec_outputs)\n",
        "\n",
        "    return tf.keras.Model(inputs = [inputs, dec_inputs], outputs = outputs, name = name)"
      ],
      "id": "2cb002d9"
    },
    {
      "cell_type": "code",
      "execution_count": null,
      "metadata": {
        "colab": {
          "base_uri": "https://localhost:8080/",
          "height": 396
        },
        "id": "RSqe9ApmCaCW",
        "outputId": "26fcfc6a-3876-45b2-d5aa-361feb790c31"
      },
      "outputs": [
        {
          "data": {
            "image/png": "[encoded data removed]",
            "text/plain": [
              "<IPython.core.display.Image object>"
            ]
          },
          "execution_count": 37,
          "metadata": {},
          "output_type": "execute_result"
        }
      ],
      "source": [
        "sample_transformer = transformer(vocab_size = 2003, num_layers = 4, units = 512, d_model = 128, num_heads = 4, dropout = 0.3, name = 'sample_transformer')\n",
        "\n",
        "tf.keras.utils.plot_model(sample_transformer, to_file = 'transformer.png', show_shapes = True)"
      ],
      "id": "RSqe9ApmCaCW"
    },
    {
      "cell_type": "code",
      "execution_count": null,
      "metadata": {
        "id": "4939f791"
      },
      "outputs": [],
      "source": [
        "\n",
        "\n",
        "# Transformer parameters initialzation\n",
        "NUM_LAYERS = 8\n",
        "D_MODEL = 512\n",
        "NUM_HEADS = 16\n",
        "UNITS = 1024\n",
        "DROPOUT = 0.03\n",
        "\n"
      ],
      "id": "4939f791"
    },
    {
      "cell_type": "code",
      "execution_count": null,
      "metadata": {
        "id": "187c18a0"
      },
      "outputs": [],
      "source": [
        "def loss_function(y_true, y_pred):\n",
        "    y_true = tf.reshape(y_true, shape=(-1, MAX_LENGTH - 1))\n",
        "\n",
        "    loss = tf.keras.losses.SparseCategoricalCrossentropy(\n",
        "      from_logits=True, reduction='none')(y_true, y_pred)\n",
        "\n",
        "    mask = tf.cast(tf.not_equal(y_true, 0), tf.float32)\n",
        "    loss = tf.multiply(loss, mask)\n",
        "\n",
        "    return tf.reduce_mean(loss)"
      ],
      "id": "187c18a0"
    },
    {
      "cell_type": "code",
      "execution_count": null,
      "metadata": {
        "id": "5979652f"
      },
      "outputs": [],
      "source": [
        "class CustomSchedule(tf.keras.optimizers.schedules.LearningRateSchedule):\n",
        "\n",
        "    def __init__(self, d_model, warmup_steps=4000):\n",
        "        super(CustomSchedule, self).__init__()\n",
        "\n",
        "\n",
        "        self.d_model = tf.constant(d_model, dtype = tf.float32)\n",
        "        self.warmup_steps = warmup_steps\n",
        "\n",
        "    def get_config(self):\n",
        "         return {\"d_model\": self.d_model,\"warmup_steps\":self.warmup_steps}\n",
        "\n",
        "    def __call__(self, step):\n",
        "        arg1 = tf.math.rsqrt(step)\n",
        "        arg2 = step * (self.warmup_steps**-1.5)\n",
        "\n",
        "        return tf.math.multiply(tf.math.rsqrt(self.d_model), tf.math.minimum(arg1, arg2))"
      ],
      "id": "5979652f"
    },
    {
      "cell_type": "code",
      "execution_count": null,
      "metadata": {
        "colab": {
          "base_uri": "https://localhost:8080/",
          "height": 296
        },
        "id": "rnOclvFhECsX",
        "outputId": "aea9a14d-b2c7-4566-cb81-41848798dd8c"
      },
      "outputs": [
        {
          "data": {
            "text/plain": [
              "Text(0.5, 0, 'Train Step')"
            ]
          },
          "execution_count": 41,
          "metadata": {},
          "output_type": "execute_result"
        },
        {
          "data": {
            "image/png": "[encoded data removed]",
            "text/plain": [
              "<Figure size 432x288 with 1 Axes>"
            ]
          },
          "metadata": {},
          "output_type": "display_data"
        }
      ],
      "source": [
        "sample_lr = CustomSchedule(d_model = 128)\n",
        "\n",
        "plt.plot(sample_lr(tf.range(20000, dtype = tf.float32)))\n",
        "plt.ylabel('Learning Rate')\n",
        "plt.xlabel('Train Step')"
      ],
      "id": "rnOclvFhECsX"
    },
    {
      "cell_type": "code",
      "execution_count": null,
      "metadata": {
        "colab": {
          "base_uri": "https://localhost:8080/"
        },
        "id": "bd2baae2",
        "outputId": "89d3a809-0f88-455e-d9b6-f5f368ee0a9b"
      },
      "outputs": [
        {
          "name": "stdout",
          "output_type": "stream",
          "text": [
            "Model: \"transformer\"\n",
            "__________________________________________________________________________________________________\n",
            " Layer (type)                   Output Shape         Param #     Connected to                     \n",
            "==================================================================================================\n",
            " inputs (InputLayer)            [(None, None)]       0           []                               \n",
            "                                                                                                  \n",
            " dec_inputs (InputLayer)        [(None, None)]       0           []                               \n",
            "                                                                                                  \n",
            " enc_padding_mask (Lambda)      (None, 1, 1, None)   0           ['inputs[0][0]']                 \n",
            "                                                                                                  \n",
            " encoder (Functional)           (None, None, 512)    17847808    ['inputs[0][0]',                 \n",
            "                                                                  'enc_padding_mask[0][0]']       \n",
            "                                                                                                  \n",
            " look_ahead_mask (Lambda)       (None, 1, None, Non  0           ['dec_inputs[0][0]']             \n",
            "                                e)                                                                \n",
            "                                                                                                  \n",
            " dec_padding_mask (Lambda)      (None, 1, 1, None)   0           ['inputs[0][0]']                 \n",
            "                                                                                                  \n",
            " decoder (Functional)           (None, None, 512)    26260992    ['dec_inputs[0][0]',             \n",
            "                                                                  'encoder[0][0]',                \n",
            "                                                                  'look_ahead_mask[0][0]',        \n",
            "                                                                  'dec_padding_mask[0][0]']       \n",
            "                                                                                                  \n",
            " outputs (Dense)                (None, None, 2003)   1027539     ['decoder[0][0]']                \n",
            "                                                                                                  \n",
            "==================================================================================================\n",
            "Total params: 45,136,339\n",
            "Trainable params: 45,136,339\n",
            "Non-trainable params: 0\n",
            "__________________________________________________________________________________________________\n"
          ]
        }
      ],
      "source": [
        "# clear backend\n",
        "tf.keras.backend.clear_session()\n",
        "\n",
        "learning_rate = CustomSchedule(D_MODEL)\n",
        "\n",
        "optimizer = tf.keras.optimizers.Adam(\n",
        "    learning_rate, beta_1=0.9, beta_2=0.98, epsilon=1e-9)\n",
        "\n",
        "def accuracy(y_true, y_pred):\n",
        "  # ensure labels have shape (batch_size, MAX_LENGTH - 1)\n",
        "    y_true = tf.reshape(y_true, shape=(-1, MAX_LENGTH - 1))\n",
        "    return tf.keras.metrics.sparse_categorical_accuracy(y_true, y_pred)\n",
        "\n",
        "# initialize and compile model within strategy scope\n",
        "with strategy.scope():\n",
        "    model = transformer(\n",
        "            vocab_size=VOCAB_SIZE,\n",
        "            num_layers=NUM_LAYERS,\n",
        "            units=UNITS,\n",
        "            d_model=D_MODEL,\n",
        "            num_heads=NUM_HEADS,\n",
        "            dropout=DROPOUT)\n",
        "\n",
        "model.compile(optimizer=optimizer, loss=loss_function, metrics=[accuracy])\n",
        "\n",
        "model.summary()\n"
      ],
      "id": "bd2baae2"
    },
    {
      "cell_type": "code",
      "execution_count": null,
      "metadata": {
        "colab": {
          "base_uri": "https://localhost:8080/"
        },
        "id": "Jucs6xKbEAwm",
        "outputId": "12d71051-f474-451a-8a12-a62273ff0b7e"
      },
      "outputs": [
        {
          "name": "stdout",
          "output_type": "stream",
          "text": [
            "Epoch 1/300\n",
            "1/1 [==============================] - 24s 24s/step - loss: 7.2598 - accuracy: 0.0000e+00\n",
            "Epoch 2/300\n",
            "1/1 [==============================] - 0s 457ms/step - loss: 7.2472 - accuracy: 0.0000e+00\n",
            "Epoch 3/300\n",
            "1/1 [==============================] - 0s 453ms/step - loss: 7.2448 - accuracy: 0.0000e+00\n",
            "Epoch 4/300\n",
            "1/1 [==============================] - 0s 456ms/step - loss: 7.2582 - accuracy: 0.0000e+00\n",
            "Epoch 5/300\n",
            "1/1 [==============================] - 0s 440ms/step - loss: 7.2366 - accuracy: 0.0000e+00\n",
            "Epoch 6/300\n",
            "1/1 [==============================] - 0s 455ms/step - loss: 7.2611 - accuracy: 0.0000e+00\n",
            "Epoch 7/300\n",
            "1/1 [==============================] - 0s 453ms/step - loss: 7.2185 - accuracy: 0.0000e+00\n",
            "Epoch 8/300\n",
            "1/1 [==============================] - 0s 453ms/step - loss: 7.1924 - accuracy: 0.0000e+00\n",
            "Epoch 9/300\n",
            "1/1 [==============================] - 0s 466ms/step - loss: 7.1247 - accuracy: 0.0000e+00\n",
            "Epoch 10/300\n",
            "1/1 [==============================] - 0s 451ms/step - loss: 7.1015 - accuracy: 0.0000e+00\n",
            "Epoch 11/300\n",
            "1/1 [==============================] - 0s 442ms/step - loss: 7.0906 - accuracy: 0.0000e+00\n",
            "Epoch 12/300\n",
            "1/1 [==============================] - 0s 462ms/step - loss: 6.9887 - accuracy: 0.0000e+00\n",
            "Epoch 13/300\n",
            "1/1 [==============================] - 0s 448ms/step - loss: 6.9775 - accuracy: 0.0000e+00\n",
            "Epoch 14/300\n",
            "1/1 [==============================] - 0s 440ms/step - loss: 6.9691 - accuracy: 0.0000e+00\n",
            "Epoch 15/300\n",
            "1/1 [==============================] - 0s 454ms/step - loss: 6.8834 - accuracy: 0.0000e+00\n",
            "Epoch 16/300\n",
            "1/1 [==============================] - 0s 464ms/step - loss: 6.8844 - accuracy: 0.0000e+00\n",
            "Epoch 17/300\n",
            "1/1 [==============================] - 0s 457ms/step - loss: 6.7671 - accuracy: 0.0000e+00\n",
            "Epoch 18/300\n",
            "1/1 [==============================] - 0s 440ms/step - loss: 6.7758 - accuracy: 0.0000e+00\n",
            "Epoch 19/300\n",
            "1/1 [==============================] - 0s 458ms/step - loss: 6.7020 - accuracy: 0.0000e+00\n",
            "Epoch 20/300\n",
            "1/1 [==============================] - 0s 442ms/step - loss: 6.6130 - accuracy: 0.0204\n",
            "Epoch 21/300\n",
            "1/1 [==============================] - 0s 441ms/step - loss: 6.5646 - accuracy: 0.0000e+00\n",
            "Epoch 22/300\n",
            "1/1 [==============================] - 0s 448ms/step - loss: 6.5418 - accuracy: 0.0408\n",
            "Epoch 23/300\n",
            "1/1 [==============================] - 0s 451ms/step - loss: 6.4722 - accuracy: 0.0408\n",
            "Epoch 24/300\n",
            "1/1 [==============================] - 0s 443ms/step - loss: 6.4471 - accuracy: 0.0612\n",
            "Epoch 25/300\n",
            "1/1 [==============================] - 0s 444ms/step - loss: 6.4160 - accuracy: 0.0612\n",
            "Epoch 26/300\n",
            "1/1 [==============================] - 0s 443ms/step - loss: 6.3865 - accuracy: 0.0612\n",
            "Epoch 27/300\n",
            "1/1 [==============================] - 0s 454ms/step - loss: 6.2973 - accuracy: 0.0612\n",
            "Epoch 28/300\n",
            "1/1 [==============================] - 0s 442ms/step - loss: 6.3107 - accuracy: 0.0612\n",
            "Epoch 29/300\n",
            "1/1 [==============================] - 0s 449ms/step - loss: 6.2739 - accuracy: 0.0612\n",
            "Epoch 30/300\n",
            "1/1 [==============================] - 0s 465ms/step - loss: 6.1718 - accuracy: 0.0612\n",
            "Epoch 31/300\n",
            "1/1 [==============================] - 0s 458ms/step - loss: 6.1770 - accuracy: 0.0612\n",
            "Epoch 32/300\n",
            "1/1 [==============================] - 0s 463ms/step - loss: 6.1227 - accuracy: 0.0612\n",
            "Epoch 33/300\n",
            "1/1 [==============================] - 0s 453ms/step - loss: 6.0965 - accuracy: 0.0612\n",
            "Epoch 34/300\n",
            "1/1 [==============================] - 0s 447ms/step - loss: 6.0828 - accuracy: 0.0612\n",
            "Epoch 35/300\n",
            "1/1 [==============================] - 0s 450ms/step - loss: 6.0459 - accuracy: 0.0612\n",
            "Epoch 36/300\n",
            "1/1 [==============================] - 0s 450ms/step - loss: 6.0152 - accuracy: 0.0612\n",
            "Epoch 37/300\n",
            "1/1 [==============================] - 0s 449ms/step - loss: 5.9354 - accuracy: 0.0612\n",
            "Epoch 38/300\n",
            "1/1 [==============================] - 0s 455ms/step - loss: 5.9361 - accuracy: 0.0612\n",
            "Epoch 39/300\n",
            "1/1 [==============================] - 0s 454ms/step - loss: 5.8882 - accuracy: 0.0612\n",
            "Epoch 40/300\n",
            "1/1 [==============================] - 0s 453ms/step - loss: 5.8795 - accuracy: 0.0612\n",
            "Epoch 41/300\n",
            "1/1 [==============================] - 0s 445ms/step - loss: 5.8394 - accuracy: 0.0612\n",
            "Epoch 42/300\n",
            "1/1 [==============================] - 0s 462ms/step - loss: 5.8072 - accuracy: 0.0612\n",
            "Epoch 43/300\n",
            "1/1 [==============================] - 0s 459ms/step - loss: 5.7835 - accuracy: 0.0408\n",
            "Epoch 44/300\n",
            "1/1 [==============================] - 0s 443ms/step - loss: 5.7666 - accuracy: 0.0612\n",
            "Epoch 45/300\n",
            "1/1 [==============================] - 0s 451ms/step - loss: 5.6977 - accuracy: 0.0612\n",
            "Epoch 46/300\n",
            "1/1 [==============================] - 0s 451ms/step - loss: 5.6875 - accuracy: 0.0612\n",
            "Epoch 47/300\n",
            "1/1 [==============================] - 0s 451ms/step - loss: 5.6542 - accuracy: 0.0612\n",
            "Epoch 48/300\n",
            "1/1 [==============================] - 0s 436ms/step - loss: 5.6434 - accuracy: 0.0612\n",
            "Epoch 49/300\n",
            "1/1 [==============================] - 0s 447ms/step - loss: 5.5910 - accuracy: 0.0816\n",
            "Epoch 50/300\n",
            "1/1 [==============================] - 0s 439ms/step - loss: 5.5912 - accuracy: 0.0612\n",
            "Epoch 51/300\n",
            "1/1 [==============================] - 0s 474ms/step - loss: 5.5509 - accuracy: 0.0612\n",
            "Epoch 52/300\n",
            "1/1 [==============================] - 0s 444ms/step - loss: 5.5432 - accuracy: 0.0612\n",
            "Epoch 53/300\n",
            "1/1 [==============================] - 0s 456ms/step - loss: 5.5306 - accuracy: 0.0612\n",
            "Epoch 54/300\n",
            "1/1 [==============================] - 0s 469ms/step - loss: 5.5009 - accuracy: 0.0612\n",
            "Epoch 55/300\n",
            "1/1 [==============================] - 0s 448ms/step - loss: 5.4911 - accuracy: 0.0612\n",
            "Epoch 56/300\n",
            "1/1 [==============================] - 0s 446ms/step - loss: 5.4619 - accuracy: 0.0612\n",
            "Epoch 57/300\n",
            "1/1 [==============================] - 0s 440ms/step - loss: 5.4078 - accuracy: 0.0816\n",
            "Epoch 58/300\n",
            "1/1 [==============================] - 0s 445ms/step - loss: 5.4033 - accuracy: 0.0612\n",
            "Epoch 59/300\n",
            "1/1 [==============================] - 0s 452ms/step - loss: 5.4140 - accuracy: 0.0408\n",
            "Epoch 60/300\n",
            "1/1 [==============================] - 0s 441ms/step - loss: 5.3693 - accuracy: 0.0408\n",
            "Epoch 61/300\n",
            "1/1 [==============================] - 0s 455ms/step - loss: 5.3440 - accuracy: 0.0408\n",
            "Epoch 62/300\n",
            "1/1 [==============================] - 0s 438ms/step - loss: 5.3267 - accuracy: 0.0816\n",
            "Epoch 63/300\n",
            "1/1 [==============================] - 0s 453ms/step - loss: 5.3412 - accuracy: 0.0612\n",
            "Epoch 64/300\n",
            "1/1 [==============================] - 0s 441ms/step - loss: 5.2895 - accuracy: 0.0612\n",
            "Epoch 65/300\n",
            "1/1 [==============================] - 0s 469ms/step - loss: 5.2924 - accuracy: 0.0612\n",
            "Epoch 66/300\n",
            "1/1 [==============================] - 0s 454ms/step - loss: 5.2427 - accuracy: 0.0612\n",
            "Epoch 67/300\n",
            "1/1 [==============================] - 0s 435ms/step - loss: 5.2475 - accuracy: 0.0612\n",
            "Epoch 68/300\n",
            "1/1 [==============================] - 0s 451ms/step - loss: 5.2152 - accuracy: 0.0612\n",
            "Epoch 69/300\n",
            "1/1 [==============================] - 0s 441ms/step - loss: 5.1947 - accuracy: 0.0612\n",
            "Epoch 70/300\n",
            "1/1 [==============================] - 0s 451ms/step - loss: 5.1554 - accuracy: 0.0612\n",
            "Epoch 71/300\n",
            "1/1 [==============================] - 0s 443ms/step - loss: 5.1803 - accuracy: 0.0612\n",
            "Epoch 72/300\n",
            "1/1 [==============================] - 0s 455ms/step - loss: 5.1568 - accuracy: 0.0612\n",
            "Epoch 73/300\n",
            "1/1 [==============================] - 0s 459ms/step - loss: 5.1462 - accuracy: 0.0612\n",
            "Epoch 74/300\n",
            "1/1 [==============================] - 0s 426ms/step - loss: 5.1024 - accuracy: 0.0612\n",
            "Epoch 75/300\n",
            "1/1 [==============================] - 0s 448ms/step - loss: 5.1037 - accuracy: 0.0612\n",
            "Epoch 76/300\n",
            "1/1 [==============================] - 0s 453ms/step - loss: 5.1052 - accuracy: 0.0612\n",
            "Epoch 77/300\n",
            "1/1 [==============================] - 0s 455ms/step - loss: 5.0880 - accuracy: 0.0612\n",
            "Epoch 78/300\n",
            "1/1 [==============================] - 0s 455ms/step - loss: 5.0782 - accuracy: 0.0612\n",
            "Epoch 79/300\n",
            "1/1 [==============================] - 0s 465ms/step - loss: 5.0793 - accuracy: 0.0612\n",
            "Epoch 80/300\n",
            "1/1 [==============================] - 0s 452ms/step - loss: 5.0399 - accuracy: 0.0612\n",
            "Epoch 81/300\n",
            "1/1 [==============================] - 0s 444ms/step - loss: 5.0258 - accuracy: 0.0612\n",
            "Epoch 82/300\n",
            "1/1 [==============================] - 0s 453ms/step - loss: 5.0305 - accuracy: 0.0612\n",
            "Epoch 83/300\n",
            "1/1 [==============================] - 0s 441ms/step - loss: 5.0193 - accuracy: 0.0408\n",
            "Epoch 84/300\n",
            "1/1 [==============================] - 0s 454ms/step - loss: 4.9849 - accuracy: 0.0408\n",
            "Epoch 85/300\n",
            "1/1 [==============================] - 0s 438ms/step - loss: 4.9922 - accuracy: 0.0612\n",
            "Epoch 86/300\n",
            "1/1 [==============================] - 0s 445ms/step - loss: 4.9814 - accuracy: 0.0612\n",
            "Epoch 87/300\n",
            "1/1 [==============================] - 0s 463ms/step - loss: 4.9638 - accuracy: 0.0612\n",
            "Epoch 88/300\n",
            "1/1 [==============================] - 0s 481ms/step - loss: 4.9734 - accuracy: 0.0408\n",
            "Epoch 89/300\n",
            "1/1 [==============================] - 0s 459ms/step - loss: 4.9328 - accuracy: 0.0612\n",
            "Epoch 90/300\n",
            "1/1 [==============================] - 0s 443ms/step - loss: 4.8925 - accuracy: 0.0612\n",
            "Epoch 91/300\n",
            "1/1 [==============================] - 0s 455ms/step - loss: 4.9104 - accuracy: 0.0612\n",
            "Epoch 92/300\n",
            "1/1 [==============================] - 0s 439ms/step - loss: 4.8659 - accuracy: 0.0612\n",
            "Epoch 93/300\n",
            "1/1 [==============================] - 0s 452ms/step - loss: 4.8695 - accuracy: 0.0612\n",
            "Epoch 94/300\n",
            "1/1 [==============================] - 0s 436ms/step - loss: 4.8633 - accuracy: 0.0612\n",
            "Epoch 95/300\n",
            "1/1 [==============================] - 0s 461ms/step - loss: 4.8501 - accuracy: 0.0612\n",
            "Epoch 96/300\n",
            "1/1 [==============================] - 0s 447ms/step - loss: 4.8315 - accuracy: 0.0612\n",
            "Epoch 97/300\n",
            "1/1 [==============================] - 0s 451ms/step - loss: 4.8110 - accuracy: 0.0612\n",
            "Epoch 98/300\n",
            "1/1 [==============================] - 0s 445ms/step - loss: 4.8397 - accuracy: 0.0612\n",
            "Epoch 99/300\n",
            "1/1 [==============================] - 0s 461ms/step - loss: 4.8097 - accuracy: 0.0612\n",
            "Epoch 100/300\n",
            "1/1 [==============================] - 0s 451ms/step - loss: 4.7550 - accuracy: 0.0612\n",
            "Epoch 101/300\n",
            "1/1 [==============================] - 0s 452ms/step - loss: 4.7672 - accuracy: 0.0612\n",
            "Epoch 102/300\n",
            "1/1 [==============================] - 0s 453ms/step - loss: 4.7802 - accuracy: 0.0612\n",
            "Epoch 103/300\n",
            "1/1 [==============================] - 0s 458ms/step - loss: 4.7171 - accuracy: 0.0816\n",
            "Epoch 104/300\n",
            "1/1 [==============================] - 0s 450ms/step - loss: 4.7218 - accuracy: 0.0612\n",
            "Epoch 105/300\n",
            "1/1 [==============================] - 0s 452ms/step - loss: 4.6929 - accuracy: 0.0816\n",
            "Epoch 106/300\n",
            "1/1 [==============================] - 0s 441ms/step - loss: 4.6695 - accuracy: 0.0816\n",
            "Epoch 107/300\n",
            "1/1 [==============================] - 0s 449ms/step - loss: 4.6552 - accuracy: 0.0816\n",
            "Epoch 108/300\n",
            "1/1 [==============================] - 0s 452ms/step - loss: 4.6263 - accuracy: 0.0816\n",
            "Epoch 109/300\n",
            "1/1 [==============================] - 0s 446ms/step - loss: 4.6165 - accuracy: 0.0816\n",
            "Epoch 110/300\n",
            "1/1 [==============================] - 0s 452ms/step - loss: 4.5636 - accuracy: 0.0612\n",
            "Epoch 111/300\n",
            "1/1 [==============================] - 0s 461ms/step - loss: 4.5417 - accuracy: 0.0408\n",
            "Epoch 112/300\n",
            "1/1 [==============================] - 0s 451ms/step - loss: 4.5112 - accuracy: 0.0816\n",
            "Epoch 113/300\n",
            "1/1 [==============================] - 0s 465ms/step - loss: 4.4918 - accuracy: 0.0816\n",
            "Epoch 114/300\n",
            "1/1 [==============================] - 0s 465ms/step - loss: 4.4638 - accuracy: 0.1020\n",
            "Epoch 115/300\n",
            "1/1 [==============================] - 0s 452ms/step - loss: 4.4513 - accuracy: 0.0816\n",
            "Epoch 116/300\n",
            "1/1 [==============================] - 0s 443ms/step - loss: 4.4064 - accuracy: 0.0612\n",
            "Epoch 117/300\n",
            "1/1 [==============================] - 0s 445ms/step - loss: 4.3961 - accuracy: 0.0816\n",
            "Epoch 118/300\n",
            "1/1 [==============================] - 0s 455ms/step - loss: 4.4019 - accuracy: 0.0816\n",
            "Epoch 119/300\n",
            "1/1 [==============================] - 0s 463ms/step - loss: 4.3797 - accuracy: 0.0816\n",
            "Epoch 120/300\n",
            "1/1 [==============================] - 0s 461ms/step - loss: 4.3274 - accuracy: 0.0816\n",
            "Epoch 121/300\n",
            "1/1 [==============================] - 0s 435ms/step - loss: 4.3064 - accuracy: 0.0612\n",
            "Epoch 122/300\n",
            "1/1 [==============================] - 0s 443ms/step - loss: 4.2553 - accuracy: 0.1020\n",
            "Epoch 123/300\n",
            "1/1 [==============================] - 0s 458ms/step - loss: 4.2513 - accuracy: 0.1020\n",
            "Epoch 124/300\n",
            "1/1 [==============================] - 0s 447ms/step - loss: 4.1981 - accuracy: 0.0612\n",
            "Epoch 125/300\n",
            "1/1 [==============================] - 0s 462ms/step - loss: 4.2165 - accuracy: 0.0816\n",
            "Epoch 126/300\n",
            "1/1 [==============================] - 0s 464ms/step - loss: 4.1600 - accuracy: 0.1020\n",
            "Epoch 127/300\n",
            "1/1 [==============================] - 0s 458ms/step - loss: 4.1317 - accuracy: 0.0816\n",
            "Epoch 128/300\n",
            "1/1 [==============================] - 0s 454ms/step - loss: 4.0734 - accuracy: 0.1224\n",
            "Epoch 129/300\n",
            "1/1 [==============================] - 0s 450ms/step - loss: 4.0677 - accuracy: 0.0816\n",
            "Epoch 130/300\n",
            "1/1 [==============================] - 0s 451ms/step - loss: 4.0265 - accuracy: 0.1224\n",
            "Epoch 131/300\n",
            "1/1 [==============================] - 0s 458ms/step - loss: 4.0155 - accuracy: 0.1020\n",
            "Epoch 132/300\n",
            "1/1 [==============================] - 0s 472ms/step - loss: 3.9850 - accuracy: 0.1224\n",
            "Epoch 133/300\n",
            "1/1 [==============================] - 0s 443ms/step - loss: 3.9676 - accuracy: 0.0816\n",
            "Epoch 134/300\n",
            "1/1 [==============================] - 0s 457ms/step - loss: 3.9352 - accuracy: 0.1020\n",
            "Epoch 135/300\n",
            "1/1 [==============================] - 0s 452ms/step - loss: 3.8841 - accuracy: 0.1633\n",
            "Epoch 136/300\n",
            "1/1 [==============================] - 0s 448ms/step - loss: 3.8567 - accuracy: 0.1633\n",
            "Epoch 137/300\n",
            "1/1 [==============================] - 0s 434ms/step - loss: 3.8186 - accuracy: 0.1429\n",
            "Epoch 138/300\n",
            "1/1 [==============================] - 0s 462ms/step - loss: 3.7884 - accuracy: 0.1633\n",
            "Epoch 139/300\n",
            "1/1 [==============================] - 0s 448ms/step - loss: 3.7497 - accuracy: 0.1429\n",
            "Epoch 140/300\n",
            "1/1 [==============================] - 0s 446ms/step - loss: 3.7548 - accuracy: 0.1224\n",
            "Epoch 141/300\n",
            "1/1 [==============================] - 0s 452ms/step - loss: 3.6957 - accuracy: 0.1633\n",
            "Epoch 142/300\n",
            "1/1 [==============================] - 0s 461ms/step - loss: 3.7296 - accuracy: 0.1224\n",
            "Epoch 143/300\n",
            "1/1 [==============================] - 0s 451ms/step - loss: 3.6315 - accuracy: 0.1633\n",
            "Epoch 144/300\n",
            "1/1 [==============================] - 0s 452ms/step - loss: 3.6377 - accuracy: 0.1837\n",
            "Epoch 145/300\n",
            "1/1 [==============================] - 0s 447ms/step - loss: 3.5997 - accuracy: 0.2041\n",
            "Epoch 146/300\n",
            "1/1 [==============================] - 0s 441ms/step - loss: 3.5786 - accuracy: 0.1837\n",
            "Epoch 147/300\n",
            "1/1 [==============================] - 0s 457ms/step - loss: 3.5455 - accuracy: 0.1837\n",
            "Epoch 148/300\n",
            "1/1 [==============================] - 0s 447ms/step - loss: 3.5304 - accuracy: 0.1633\n",
            "Epoch 149/300\n",
            "1/1 [==============================] - 0s 454ms/step - loss: 3.4995 - accuracy: 0.1633\n",
            "Epoch 150/300\n",
            "1/1 [==============================] - 0s 448ms/step - loss: 3.4459 - accuracy: 0.2245\n",
            "Epoch 151/300\n",
            "1/1 [==============================] - 0s 467ms/step - loss: 3.4063 - accuracy: 0.2653\n",
            "Epoch 152/300\n",
            "1/1 [==============================] - 0s 439ms/step - loss: 3.4060 - accuracy: 0.1837\n",
            "Epoch 153/300\n",
            "1/1 [==============================] - 0s 444ms/step - loss: 3.2929 - accuracy: 0.2041\n",
            "Epoch 154/300\n",
            "1/1 [==============================] - 0s 452ms/step - loss: 3.2926 - accuracy: 0.2449\n",
            "Epoch 155/300\n",
            "1/1 [==============================] - 0s 440ms/step - loss: 3.2512 - accuracy: 0.3061\n",
            "Epoch 156/300\n",
            "1/1 [==============================] - 0s 461ms/step - loss: 3.2293 - accuracy: 0.2653\n",
            "Epoch 157/300\n",
            "1/1 [==============================] - 0s 442ms/step - loss: 3.1494 - accuracy: 0.3061\n",
            "Epoch 158/300\n",
            "1/1 [==============================] - 0s 444ms/step - loss: 3.1649 - accuracy: 0.2653\n",
            "Epoch 159/300\n",
            "1/1 [==============================] - 0s 453ms/step - loss: 3.1402 - accuracy: 0.3061\n",
            "Epoch 160/300\n",
            "1/1 [==============================] - 0s 464ms/step - loss: 3.0918 - accuracy: 0.2857\n",
            "Epoch 161/300\n",
            "1/1 [==============================] - 0s 455ms/step - loss: 3.0834 - accuracy: 0.3061\n",
            "Epoch 162/300\n",
            "1/1 [==============================] - 0s 456ms/step - loss: 3.0325 - accuracy: 0.3265\n",
            "Epoch 163/300\n",
            "1/1 [==============================] - 0s 439ms/step - loss: 3.0572 - accuracy: 0.3265\n",
            "Epoch 164/300\n",
            "1/1 [==============================] - 0s 444ms/step - loss: 3.0029 - accuracy: 0.3265\n",
            "Epoch 165/300\n",
            "1/1 [==============================] - 0s 445ms/step - loss: 2.9532 - accuracy: 0.3878\n",
            "Epoch 166/300\n",
            "1/1 [==============================] - 0s 450ms/step - loss: 2.9806 - accuracy: 0.3469\n",
            "Epoch 167/300\n",
            "1/1 [==============================] - 0s 453ms/step - loss: 2.9279 - accuracy: 0.2857\n",
            "Epoch 168/300\n",
            "1/1 [==============================] - 0s 451ms/step - loss: 2.9056 - accuracy: 0.3469\n",
            "Epoch 169/300\n",
            "1/1 [==============================] - 0s 455ms/step - loss: 2.8476 - accuracy: 0.4082\n",
            "Epoch 170/300\n",
            "1/1 [==============================] - 0s 463ms/step - loss: 2.8645 - accuracy: 0.3265\n",
            "Epoch 171/300\n",
            "1/1 [==============================] - 0s 456ms/step - loss: 2.7519 - accuracy: 0.4694\n",
            "Epoch 172/300\n",
            "1/1 [==============================] - 0s 452ms/step - loss: 2.7039 - accuracy: 0.5510\n",
            "Epoch 173/300\n",
            "1/1 [==============================] - 0s 452ms/step - loss: 2.6737 - accuracy: 0.4286\n",
            "Epoch 174/300\n",
            "1/1 [==============================] - 0s 451ms/step - loss: 2.6655 - accuracy: 0.4286\n",
            "Epoch 175/300\n",
            "1/1 [==============================] - 0s 461ms/step - loss: 2.6255 - accuracy: 0.4490\n",
            "Epoch 176/300\n",
            "1/1 [==============================] - 0s 452ms/step - loss: 2.5496 - accuracy: 0.4898\n",
            "Epoch 177/300\n",
            "1/1 [==============================] - 0s 441ms/step - loss: 2.4778 - accuracy: 0.4694\n",
            "Epoch 178/300\n",
            "1/1 [==============================] - 0s 449ms/step - loss: 2.6125 - accuracy: 0.4286\n",
            "Epoch 179/300\n",
            "1/1 [==============================] - 0s 451ms/step - loss: 2.3780 - accuracy: 0.5102\n",
            "Epoch 180/300\n",
            "1/1 [==============================] - 0s 448ms/step - loss: 2.5196 - accuracy: 0.4898\n",
            "Epoch 181/300\n",
            "1/1 [==============================] - 0s 444ms/step - loss: 2.3547 - accuracy: 0.5102\n",
            "Epoch 182/300\n",
            "1/1 [==============================] - 0s 444ms/step - loss: 2.3062 - accuracy: 0.5714\n",
            "Epoch 183/300\n",
            "1/1 [==============================] - 0s 448ms/step - loss: 2.1785 - accuracy: 0.6939\n",
            "Epoch 184/300\n",
            "1/1 [==============================] - 0s 443ms/step - loss: 2.2654 - accuracy: 0.6531\n",
            "Epoch 185/300\n",
            "1/1 [==============================] - 0s 460ms/step - loss: 2.1445 - accuracy: 0.7959\n",
            "Epoch 186/300\n",
            "1/1 [==============================] - 0s 452ms/step - loss: 2.0606 - accuracy: 0.7143\n",
            "Epoch 187/300\n",
            "1/1 [==============================] - 0s 451ms/step - loss: 1.9985 - accuracy: 0.7959\n",
            "Epoch 188/300\n",
            "1/1 [==============================] - 0s 449ms/step - loss: 2.0450 - accuracy: 0.8367\n",
            "Epoch 189/300\n",
            "1/1 [==============================] - 0s 451ms/step - loss: 2.0046 - accuracy: 0.7755\n",
            "Epoch 190/300\n",
            "1/1 [==============================] - 0s 444ms/step - loss: 1.9040 - accuracy: 0.6735\n",
            "Epoch 191/300\n",
            "1/1 [==============================] - 0s 484ms/step - loss: 2.0132 - accuracy: 0.7347\n",
            "Epoch 192/300\n",
            "1/1 [==============================] - 0s 462ms/step - loss: 1.8903 - accuracy: 0.6735\n",
            "Epoch 193/300\n",
            "1/1 [==============================] - 0s 457ms/step - loss: 1.6455 - accuracy: 0.7959\n",
            "Epoch 194/300\n",
            "1/1 [==============================] - 0s 460ms/step - loss: 1.7373 - accuracy: 0.7959\n",
            "Epoch 195/300\n",
            "1/1 [==============================] - 0s 440ms/step - loss: 1.7169 - accuracy: 0.7959\n",
            "Epoch 196/300\n",
            "1/1 [==============================] - 0s 448ms/step - loss: 1.6895 - accuracy: 0.8571\n",
            "Epoch 197/300\n",
            "1/1 [==============================] - 0s 438ms/step - loss: 1.6256 - accuracy: 0.8980\n",
            "Epoch 198/300\n",
            "1/1 [==============================] - 0s 449ms/step - loss: 1.5948 - accuracy: 0.8980\n",
            "Epoch 199/300\n",
            "1/1 [==============================] - 0s 445ms/step - loss: 1.5327 - accuracy: 0.8571\n",
            "Epoch 200/300\n",
            "1/1 [==============================] - 0s 451ms/step - loss: 1.4728 - accuracy: 0.8367\n",
            "Epoch 201/300\n",
            "1/1 [==============================] - 0s 429ms/step - loss: 1.6177 - accuracy: 0.8980\n",
            "Epoch 202/300\n",
            "1/1 [==============================] - 0s 470ms/step - loss: 1.4539 - accuracy: 0.8367\n",
            "Epoch 203/300\n",
            "1/1 [==============================] - 0s 441ms/step - loss: 1.3841 - accuracy: 0.8980\n",
            "Epoch 204/300\n",
            "1/1 [==============================] - 0s 458ms/step - loss: 1.4161 - accuracy: 0.8163\n",
            "Epoch 205/300\n",
            "1/1 [==============================] - 0s 448ms/step - loss: 1.4053 - accuracy: 0.8776\n",
            "Epoch 206/300\n",
            "1/1 [==============================] - 0s 445ms/step - loss: 1.3373 - accuracy: 0.9388\n",
            "Epoch 207/300\n",
            "1/1 [==============================] - 0s 446ms/step - loss: 1.2649 - accuracy: 0.8163\n",
            "Epoch 208/300\n",
            "1/1 [==============================] - 0s 448ms/step - loss: 1.2388 - accuracy: 0.8776\n",
            "Epoch 209/300\n",
            "1/1 [==============================] - 0s 459ms/step - loss: 1.1205 - accuracy: 0.8776\n",
            "Epoch 210/300\n",
            "1/1 [==============================] - 0s 456ms/step - loss: 1.0859 - accuracy: 0.8980\n",
            "Epoch 211/300\n",
            "1/1 [==============================] - 0s 467ms/step - loss: 1.1473 - accuracy: 0.8571\n",
            "Epoch 212/300\n",
            "1/1 [==============================] - 0s 437ms/step - loss: 1.0608 - accuracy: 0.9184\n",
            "Epoch 213/300\n",
            "1/1 [==============================] - 0s 468ms/step - loss: 1.0675 - accuracy: 0.9184\n",
            "Epoch 214/300\n",
            "1/1 [==============================] - 0s 434ms/step - loss: 0.9191 - accuracy: 0.8980\n",
            "Epoch 215/300\n",
            "1/1 [==============================] - 0s 452ms/step - loss: 0.9742 - accuracy: 0.9184\n",
            "Epoch 216/300\n",
            "1/1 [==============================] - 0s 435ms/step - loss: 0.9243 - accuracy: 0.9184\n",
            "Epoch 217/300\n",
            "1/1 [==============================] - 0s 448ms/step - loss: 0.8282 - accuracy: 0.9388\n",
            "Epoch 218/300\n",
            "1/1 [==============================] - 0s 446ms/step - loss: 0.8471 - accuracy: 0.9184\n",
            "Epoch 219/300\n",
            "1/1 [==============================] - 0s 455ms/step - loss: 0.7592 - accuracy: 0.9388\n",
            "Epoch 220/300\n",
            "1/1 [==============================] - 0s 451ms/step - loss: 0.7809 - accuracy: 0.9184\n",
            "Epoch 221/300\n",
            "1/1 [==============================] - 0s 459ms/step - loss: 0.7302 - accuracy: 0.9184\n",
            "Epoch 222/300\n",
            "1/1 [==============================] - 0s 447ms/step - loss: 0.7167 - accuracy: 0.9184\n",
            "Epoch 223/300\n",
            "1/1 [==============================] - 0s 447ms/step - loss: 0.6482 - accuracy: 0.9184\n",
            "Epoch 224/300\n",
            "1/1 [==============================] - 0s 442ms/step - loss: 0.6822 - accuracy: 0.8980\n",
            "Epoch 225/300\n",
            "1/1 [==============================] - 0s 459ms/step - loss: 0.6230 - accuracy: 0.9184\n",
            "Epoch 226/300\n",
            "1/1 [==============================] - 0s 445ms/step - loss: 0.7045 - accuracy: 0.8776\n",
            "Epoch 227/300\n",
            "1/1 [==============================] - 0s 452ms/step - loss: 0.6287 - accuracy: 0.9388\n",
            "Epoch 228/300\n",
            "1/1 [==============================] - 0s 442ms/step - loss: 0.5949 - accuracy: 0.9184\n",
            "Epoch 229/300\n",
            "1/1 [==============================] - 0s 469ms/step - loss: 0.6392 - accuracy: 0.9184\n",
            "Epoch 230/300\n",
            "1/1 [==============================] - 0s 452ms/step - loss: 0.5478 - accuracy: 0.9184\n",
            "Epoch 231/300\n",
            "1/1 [==============================] - 0s 439ms/step - loss: 0.5619 - accuracy: 0.8980\n",
            "Epoch 232/300\n",
            "1/1 [==============================] - 0s 445ms/step - loss: 0.5345 - accuracy: 0.9184\n",
            "Epoch 233/300\n",
            "1/1 [==============================] - 0s 461ms/step - loss: 0.4989 - accuracy: 0.9388\n",
            "Epoch 234/300\n",
            "1/1 [==============================] - 0s 441ms/step - loss: 0.5523 - accuracy: 0.9184\n",
            "Epoch 235/300\n",
            "1/1 [==============================] - 0s 454ms/step - loss: 0.4356 - accuracy: 0.9184\n",
            "Epoch 236/300\n",
            "1/1 [==============================] - 0s 454ms/step - loss: 0.4505 - accuracy: 0.9388\n",
            "Epoch 237/300\n",
            "1/1 [==============================] - 0s 471ms/step - loss: 0.4256 - accuracy: 0.9388\n",
            "Epoch 238/300\n",
            "1/1 [==============================] - 0s 450ms/step - loss: 0.4134 - accuracy: 0.8980\n",
            "Epoch 239/300\n",
            "1/1 [==============================] - 0s 461ms/step - loss: 0.3689 - accuracy: 0.9184\n",
            "Epoch 240/300\n",
            "1/1 [==============================] - 0s 453ms/step - loss: 0.3605 - accuracy: 0.9388\n",
            "Epoch 241/300\n",
            "1/1 [==============================] - 0s 442ms/step - loss: 0.3620 - accuracy: 0.9388\n",
            "Epoch 242/300\n",
            "1/1 [==============================] - 0s 430ms/step - loss: 0.3381 - accuracy: 0.9388\n",
            "Epoch 243/300\n",
            "1/1 [==============================] - 0s 438ms/step - loss: 0.3113 - accuracy: 0.9388\n",
            "Epoch 244/300\n",
            "1/1 [==============================] - 0s 443ms/step - loss: 0.3011 - accuracy: 0.9184\n",
            "Epoch 245/300\n",
            "1/1 [==============================] - 0s 457ms/step - loss: 0.3115 - accuracy: 0.9184\n",
            "Epoch 246/300\n",
            "1/1 [==============================] - 0s 458ms/step - loss: 0.3016 - accuracy: 0.9184\n",
            "Epoch 247/300\n",
            "1/1 [==============================] - 0s 445ms/step - loss: 0.2493 - accuracy: 0.9388\n",
            "Epoch 248/300\n",
            "1/1 [==============================] - 0s 432ms/step - loss: 0.2783 - accuracy: 0.9388\n",
            "Epoch 249/300\n",
            "1/1 [==============================] - 0s 460ms/step - loss: 0.2633 - accuracy: 0.9388\n",
            "Epoch 250/300\n",
            "1/1 [==============================] - 0s 458ms/step - loss: 0.2614 - accuracy: 0.9388\n",
            "Epoch 251/300\n",
            "1/1 [==============================] - 0s 470ms/step - loss: 0.2372 - accuracy: 0.9388\n",
            "Epoch 252/300\n",
            "1/1 [==============================] - 0s 437ms/step - loss: 0.2375 - accuracy: 0.9388\n",
            "Epoch 253/300\n",
            "1/1 [==============================] - 0s 461ms/step - loss: 0.2351 - accuracy: 0.9388\n",
            "Epoch 254/300\n",
            "1/1 [==============================] - 0s 457ms/step - loss: 0.2246 - accuracy: 0.9388\n",
            "Epoch 255/300\n",
            "1/1 [==============================] - 0s 445ms/step - loss: 0.2197 - accuracy: 0.9388\n",
            "Epoch 256/300\n",
            "1/1 [==============================] - 0s 446ms/step - loss: 0.2193 - accuracy: 0.9388\n",
            "Epoch 257/300\n",
            "1/1 [==============================] - 0s 436ms/step - loss: 0.2073 - accuracy: 0.9388\n",
            "Epoch 258/300\n",
            "1/1 [==============================] - 0s 447ms/step - loss: 0.2063 - accuracy: 0.9388\n",
            "Epoch 259/300\n",
            "1/1 [==============================] - 0s 444ms/step - loss: 0.1909 - accuracy: 0.9388\n",
            "Epoch 260/300\n",
            "1/1 [==============================] - 0s 452ms/step - loss: 0.1703 - accuracy: 0.9388\n",
            "Epoch 261/300\n",
            "1/1 [==============================] - 0s 456ms/step - loss: 0.1913 - accuracy: 0.9388\n",
            "Epoch 262/300\n",
            "1/1 [==============================] - 0s 450ms/step - loss: 0.1674 - accuracy: 0.9388\n",
            "Epoch 263/300\n",
            "1/1 [==============================] - 0s 456ms/step - loss: 0.1728 - accuracy: 0.9388\n",
            "Epoch 264/300\n",
            "1/1 [==============================] - 0s 461ms/step - loss: 0.1577 - accuracy: 0.9388\n",
            "Epoch 265/300\n",
            "1/1 [==============================] - 0s 446ms/step - loss: 0.1627 - accuracy: 0.9388\n",
            "Epoch 266/300\n",
            "1/1 [==============================] - 0s 446ms/step - loss: 0.1553 - accuracy: 0.9388\n",
            "Epoch 267/300\n",
            "1/1 [==============================] - 0s 439ms/step - loss: 0.1484 - accuracy: 0.9388\n",
            "Epoch 268/300\n",
            "1/1 [==============================] - 0s 439ms/step - loss: 0.1651 - accuracy: 0.9388\n",
            "Epoch 269/300\n",
            "1/1 [==============================] - 0s 462ms/step - loss: 0.1456 - accuracy: 0.9388\n",
            "Epoch 270/300\n",
            "1/1 [==============================] - 0s 443ms/step - loss: 0.1382 - accuracy: 0.9388\n",
            "Epoch 271/300\n",
            "1/1 [==============================] - 0s 440ms/step - loss: 0.1333 - accuracy: 0.9184\n",
            "Epoch 272/300\n",
            "1/1 [==============================] - 0s 466ms/step - loss: 0.1277 - accuracy: 0.9184\n",
            "Epoch 273/300\n",
            "1/1 [==============================] - 0s 457ms/step - loss: 0.1271 - accuracy: 0.9388\n",
            "Epoch 274/300\n",
            "1/1 [==============================] - 0s 457ms/step - loss: 0.1176 - accuracy: 0.9388\n",
            "Epoch 275/300\n",
            "1/1 [==============================] - 0s 432ms/step - loss: 0.1238 - accuracy: 0.9388\n",
            "Epoch 276/300\n",
            "1/1 [==============================] - 0s 454ms/step - loss: 0.1121 - accuracy: 0.9388\n",
            "Epoch 277/300\n",
            "1/1 [==============================] - 0s 450ms/step - loss: 0.1190 - accuracy: 0.9388\n",
            "Epoch 278/300\n",
            "1/1 [==============================] - 0s 457ms/step - loss: 0.1027 - accuracy: 0.9388\n",
            "Epoch 279/300\n",
            "1/1 [==============================] - 0s 449ms/step - loss: 0.1140 - accuracy: 0.9388\n",
            "Epoch 280/300\n",
            "1/1 [==============================] - 0s 464ms/step - loss: 0.1071 - accuracy: 0.9388\n",
            "Epoch 281/300\n",
            "1/1 [==============================] - 0s 437ms/step - loss: 0.1117 - accuracy: 0.9388\n",
            "Epoch 282/300\n",
            "1/1 [==============================] - 0s 450ms/step - loss: 0.0906 - accuracy: 0.9388\n",
            "Epoch 283/300\n",
            "1/1 [==============================] - 0s 442ms/step - loss: 0.0989 - accuracy: 0.9388\n",
            "Epoch 284/300\n",
            "1/1 [==============================] - 0s 466ms/step - loss: 0.0892 - accuracy: 0.9388\n",
            "Epoch 285/300\n",
            "1/1 [==============================] - 0s 445ms/step - loss: 0.0795 - accuracy: 0.9388\n",
            "Epoch 286/300\n",
            "1/1 [==============================] - 0s 456ms/step - loss: 0.0955 - accuracy: 0.9388\n",
            "Epoch 287/300\n",
            "1/1 [==============================] - 0s 460ms/step - loss: 0.0858 - accuracy: 0.9388\n",
            "Epoch 288/300\n",
            "1/1 [==============================] - 0s 479ms/step - loss: 0.0820 - accuracy: 0.9388\n",
            "Epoch 289/300\n",
            "1/1 [==============================] - 0s 460ms/step - loss: 0.0897 - accuracy: 0.9388\n",
            "Epoch 290/300\n",
            "1/1 [==============================] - 0s 467ms/step - loss: 0.0975 - accuracy: 0.9388\n",
            "Epoch 291/300\n",
            "1/1 [==============================] - 0s 464ms/step - loss: 0.0861 - accuracy: 0.9388\n",
            "Epoch 292/300\n",
            "1/1 [==============================] - 0s 446ms/step - loss: 0.0847 - accuracy: 0.9388\n",
            "Epoch 293/300\n",
            "1/1 [==============================] - 0s 444ms/step - loss: 0.0837 - accuracy: 0.9388\n",
            "Epoch 294/300\n",
            "1/1 [==============================] - 0s 439ms/step - loss: 0.0898 - accuracy: 0.9388\n",
            "Epoch 295/300\n",
            "1/1 [==============================] - 0s 441ms/step - loss: 0.0734 - accuracy: 0.9388\n",
            "Epoch 296/300\n",
            "1/1 [==============================] - 0s 441ms/step - loss: 0.1096 - accuracy: 0.9388\n",
            "Epoch 297/300\n",
            "1/1 [==============================] - 0s 436ms/step - loss: 0.0658 - accuracy: 0.9388\n",
            "Epoch 298/300\n",
            "1/1 [==============================] - 0s 447ms/step - loss: 0.0647 - accuracy: 0.9388\n",
            "Epoch 299/300\n",
            "1/1 [==============================] - 0s 447ms/step - loss: 0.0764 - accuracy: 0.9388\n",
            "Epoch 300/300\n",
            "1/1 [==============================] - 0s 428ms/step - loss: 0.0682 - accuracy: 0.9388\n"
          ]
        },
        {
          "data": {
            "text/plain": [
              "<keras.callbacks.History at 0x7f6fb6f22a10>"
            ]
          },
          "execution_count": 43,
          "metadata": {},
          "output_type": "execute_result"
        }
      ],
      "source": [
        "model.fit(dataset, epochs = 300)"
      ],
      "id": "Jucs6xKbEAwm"
    },
    {
      "cell_type": "code",
      "execution_count": null,
      "metadata": {
        "id": "864bc2df"
      },
      "outputs": [],
      "source": [
        "def evaluate(sentence):\n",
        "\n",
        "  sentence = preprocess_sentence(sentence)\n",
        "\n",
        "  sentence = tf.expand_dims( START_TOKEN + tokenizer.encode(sentence) + END_TOKEN, axis = 0)\n",
        "\n",
        "  output = tf.expand_dims(START_TOKEN, 0)\n",
        "\n",
        "  for i in range(MAX_LENGTH):\n",
        "                 predictions = model(inputs = [sentence, output], training = False)\n",
        "\n",
        "                 predictions = predictions[:, -1:,:]\n",
        "                 predicted_id=  tf.cast(tf.argmax(predictions, axis = -1), tf.int32)\n",
        "\n",
        "                 if tf.equal(predicted_id, END_TOKEN[0]):\n",
        "                   break\n",
        "\n",
        "                 output = tf.concat([output, predicted_id], axis = -1)\n",
        "  return tf.squeeze(output, axis = 0)\n",
        "\n",
        "def predict(sentence):\n",
        "\n",
        "  prediction = evaluate(sentence)\n",
        "\n",
        "  predicted_sentence = tokenizer.decode(\n",
        "      [i for i in prediction if i < tokenizer.vocab_size])\n",
        "\n",
        "  print(f' Question: {sentence}')\n",
        "  print(f' Answer: {predicted_sentence}')\n"
      ],
      "id": "864bc2df"
    },
    {
      "cell_type": "code",
      "execution_count": null,
      "metadata": {
        "colab": {
          "background_save": true
        },
        "id": "iCJFXjjJM7DL",
        "outputId": "9419a684-62ca-4412-ff79-e2a5a1dd1a28"
      },
      "outputs": [
        {
          "name": "stdout",
          "output_type": "stream",
          "text": [
            " Question: what is Machine Learning ?\n",
            " Answer: this function allows you to diversify your network by introducing non linear methods of learning . what this will do is that it will help your machine to learn how to process difficult processes more easily .\n"
          ]
        }
      ],
      "source": [
        "out = predict(\"what is Machine Learning ?\")"
      ],
      "id": "iCJFXjjJM7DL"
    },
    {
      "cell_type": "code",
      "execution_count": null,
      "metadata": {
        "id": "Z_aUESGAP4Og"
      },
      "outputs": [],
      "source": [],
      "id": "Z_aUESGAP4Og"
    }
  ],
  "metadata": {
    "colab": {
      "provenance": []
    },
    "kernelspec": {
      "display_name": "Python 3",
      "language": "python",
      "name": "python3"
    },
    "language_info": {
      "codemirror_mode": {
        "name": "ipython",
        "version": 3
      },
      "file_extension": ".py",
      "mimetype": "text/x-python",
      "name": "python",
      "nbconvert_exporter": "python",
      "pygments_lexer": "ipython3",
      "version": "3.9.6"
    }
  },
  "nbformat": 4,
  "nbformat_minor": 5
}